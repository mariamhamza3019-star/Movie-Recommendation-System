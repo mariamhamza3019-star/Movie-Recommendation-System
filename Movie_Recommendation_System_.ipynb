{
  "nbformat": 4,
  "nbformat_minor": 0,
  "metadata": {
    "colab": {
      "provenance": []
    },
    "kernelspec": {
      "name": "python3",
      "display_name": "Python 3"
    },
    "language_info": {
      "name": "python"
    }
  },
  "cells": [
    {
      "cell_type": "code",
      "execution_count": 7,
      "metadata": {
        "id": "3pJ28Lu_7ej6"
      },
      "outputs": [],
      "source": [
        "import numpy as np\n",
        "import pandas as pd\n",
        "import matplotlib.pyplot as plt\n",
        "import seaborn as sns\n"
      ]
    },
    {
      "cell_type": "code",
      "source": [
        "from google.colab import files\n",
        "uploaded = files.upload()"
      ],
      "metadata": {
        "colab": {
          "base_uri": "https://localhost:8080/",
          "height": 73
        },
        "id": "qlkWS2dRiWcj",
        "outputId": "e388ed52-0aeb-4b7c-ee2b-cfbbf6d1bbf0"
      },
      "execution_count": 9,
      "outputs": [
        {
          "output_type": "display_data",
          "data": {
            "text/plain": [
              "<IPython.core.display.HTML object>"
            ],
            "text/html": [
              "\n",
              "     <input type=\"file\" id=\"files-80d0e0f0-3649-4a9f-b866-fc9625550c79\" name=\"files[]\" multiple disabled\n",
              "        style=\"border:none\" />\n",
              "     <output id=\"result-80d0e0f0-3649-4a9f-b866-fc9625550c79\">\n",
              "      Upload widget is only available when the cell has been executed in the\n",
              "      current browser session. Please rerun this cell to enable.\n",
              "      </output>\n",
              "      <script>// Copyright 2017 Google LLC\n",
              "//\n",
              "// Licensed under the Apache License, Version 2.0 (the \"License\");\n",
              "// you may not use this file except in compliance with the License.\n",
              "// You may obtain a copy of the License at\n",
              "//\n",
              "//      http://www.apache.org/licenses/LICENSE-2.0\n",
              "//\n",
              "// Unless required by applicable law or agreed to in writing, software\n",
              "// distributed under the License is distributed on an \"AS IS\" BASIS,\n",
              "// WITHOUT WARRANTIES OR CONDITIONS OF ANY KIND, either express or implied.\n",
              "// See the License for the specific language governing permissions and\n",
              "// limitations under the License.\n",
              "\n",
              "/**\n",
              " * @fileoverview Helpers for google.colab Python module.\n",
              " */\n",
              "(function(scope) {\n",
              "function span(text, styleAttributes = {}) {\n",
              "  const element = document.createElement('span');\n",
              "  element.textContent = text;\n",
              "  for (const key of Object.keys(styleAttributes)) {\n",
              "    element.style[key] = styleAttributes[key];\n",
              "  }\n",
              "  return element;\n",
              "}\n",
              "\n",
              "// Max number of bytes which will be uploaded at a time.\n",
              "const MAX_PAYLOAD_SIZE = 100 * 1024;\n",
              "\n",
              "function _uploadFiles(inputId, outputId) {\n",
              "  const steps = uploadFilesStep(inputId, outputId);\n",
              "  const outputElement = document.getElementById(outputId);\n",
              "  // Cache steps on the outputElement to make it available for the next call\n",
              "  // to uploadFilesContinue from Python.\n",
              "  outputElement.steps = steps;\n",
              "\n",
              "  return _uploadFilesContinue(outputId);\n",
              "}\n",
              "\n",
              "// This is roughly an async generator (not supported in the browser yet),\n",
              "// where there are multiple asynchronous steps and the Python side is going\n",
              "// to poll for completion of each step.\n",
              "// This uses a Promise to block the python side on completion of each step,\n",
              "// then passes the result of the previous step as the input to the next step.\n",
              "function _uploadFilesContinue(outputId) {\n",
              "  const outputElement = document.getElementById(outputId);\n",
              "  const steps = outputElement.steps;\n",
              "\n",
              "  const next = steps.next(outputElement.lastPromiseValue);\n",
              "  return Promise.resolve(next.value.promise).then((value) => {\n",
              "    // Cache the last promise value to make it available to the next\n",
              "    // step of the generator.\n",
              "    outputElement.lastPromiseValue = value;\n",
              "    return next.value.response;\n",
              "  });\n",
              "}\n",
              "\n",
              "/**\n",
              " * Generator function which is called between each async step of the upload\n",
              " * process.\n",
              " * @param {string} inputId Element ID of the input file picker element.\n",
              " * @param {string} outputId Element ID of the output display.\n",
              " * @return {!Iterable<!Object>} Iterable of next steps.\n",
              " */\n",
              "function* uploadFilesStep(inputId, outputId) {\n",
              "  const inputElement = document.getElementById(inputId);\n",
              "  inputElement.disabled = false;\n",
              "\n",
              "  const outputElement = document.getElementById(outputId);\n",
              "  outputElement.innerHTML = '';\n",
              "\n",
              "  const pickedPromise = new Promise((resolve) => {\n",
              "    inputElement.addEventListener('change', (e) => {\n",
              "      resolve(e.target.files);\n",
              "    });\n",
              "  });\n",
              "\n",
              "  const cancel = document.createElement('button');\n",
              "  inputElement.parentElement.appendChild(cancel);\n",
              "  cancel.textContent = 'Cancel upload';\n",
              "  const cancelPromise = new Promise((resolve) => {\n",
              "    cancel.onclick = () => {\n",
              "      resolve(null);\n",
              "    };\n",
              "  });\n",
              "\n",
              "  // Wait for the user to pick the files.\n",
              "  const files = yield {\n",
              "    promise: Promise.race([pickedPromise, cancelPromise]),\n",
              "    response: {\n",
              "      action: 'starting',\n",
              "    }\n",
              "  };\n",
              "\n",
              "  cancel.remove();\n",
              "\n",
              "  // Disable the input element since further picks are not allowed.\n",
              "  inputElement.disabled = true;\n",
              "\n",
              "  if (!files) {\n",
              "    return {\n",
              "      response: {\n",
              "        action: 'complete',\n",
              "      }\n",
              "    };\n",
              "  }\n",
              "\n",
              "  for (const file of files) {\n",
              "    const li = document.createElement('li');\n",
              "    li.append(span(file.name, {fontWeight: 'bold'}));\n",
              "    li.append(span(\n",
              "        `(${file.type || 'n/a'}) - ${file.size} bytes, ` +\n",
              "        `last modified: ${\n",
              "            file.lastModifiedDate ? file.lastModifiedDate.toLocaleDateString() :\n",
              "                                    'n/a'} - `));\n",
              "    const percent = span('0% done');\n",
              "    li.appendChild(percent);\n",
              "\n",
              "    outputElement.appendChild(li);\n",
              "\n",
              "    const fileDataPromise = new Promise((resolve) => {\n",
              "      const reader = new FileReader();\n",
              "      reader.onload = (e) => {\n",
              "        resolve(e.target.result);\n",
              "      };\n",
              "      reader.readAsArrayBuffer(file);\n",
              "    });\n",
              "    // Wait for the data to be ready.\n",
              "    let fileData = yield {\n",
              "      promise: fileDataPromise,\n",
              "      response: {\n",
              "        action: 'continue',\n",
              "      }\n",
              "    };\n",
              "\n",
              "    // Use a chunked sending to avoid message size limits. See b/62115660.\n",
              "    let position = 0;\n",
              "    do {\n",
              "      const length = Math.min(fileData.byteLength - position, MAX_PAYLOAD_SIZE);\n",
              "      const chunk = new Uint8Array(fileData, position, length);\n",
              "      position += length;\n",
              "\n",
              "      const base64 = btoa(String.fromCharCode.apply(null, chunk));\n",
              "      yield {\n",
              "        response: {\n",
              "          action: 'append',\n",
              "          file: file.name,\n",
              "          data: base64,\n",
              "        },\n",
              "      };\n",
              "\n",
              "      let percentDone = fileData.byteLength === 0 ?\n",
              "          100 :\n",
              "          Math.round((position / fileData.byteLength) * 100);\n",
              "      percent.textContent = `${percentDone}% done`;\n",
              "\n",
              "    } while (position < fileData.byteLength);\n",
              "  }\n",
              "\n",
              "  // All done.\n",
              "  yield {\n",
              "    response: {\n",
              "      action: 'complete',\n",
              "    }\n",
              "  };\n",
              "}\n",
              "\n",
              "scope.google = scope.google || {};\n",
              "scope.google.colab = scope.google.colab || {};\n",
              "scope.google.colab._files = {\n",
              "  _uploadFiles,\n",
              "  _uploadFilesContinue,\n",
              "};\n",
              "})(self);\n",
              "</script> "
            ]
          },
          "metadata": {}
        },
        {
          "output_type": "stream",
          "name": "stdout",
          "text": [
            "Saving archive (3).zip to archive (3).zip\n"
          ]
        }
      ]
    },
    {
      "cell_type": "code",
      "source": [
        "import zipfile\n",
        "with zipfile.ZipFile(\"archive (3).zip\", \"r\") as zip_ref:\n",
        "    zip_ref.extractall(\".\")"
      ],
      "metadata": {
        "id": "75cGOkmyihSo"
      },
      "execution_count": 12,
      "outputs": []
    },
    {
      "cell_type": "code",
      "source": [
        "import os\n",
        "\n",
        "# List files after extraction\n",
        "print(os.listdir(\".\"))   # top level\n",
        "print(os.listdir(\"ml-100k\"))  # inside the extracted folder\n"
      ],
      "metadata": {
        "colab": {
          "base_uri": "https://localhost:8080/"
        },
        "id": "GdDudN3ejz49",
        "outputId": "a38a803d-65ab-4637-e75c-befd593e8000"
      },
      "execution_count": 19,
      "outputs": [
        {
          "output_type": "stream",
          "name": "stdout",
          "text": [
            "['.config', 'ml-100k', 'archive (3).zip', 'sample_data']\n",
            "['ub.test', 'u.data', 'u5.base', 'allbut.pl', 'u.info', 'ub.base', 'ua.test', 'u.genre', 'mku.sh', 'u.user', 'u.item', 'u3.test', 'u.occupation', 'u4.test', 'u1.test', 'ua.base', 'u3.base', 'README', 'u5.test', 'u4.base', 'u2.base', 'u1.base', 'u2.test']\n"
          ]
        }
      ]
    },
    {
      "cell_type": "code",
      "source": [
        "# Load ratings (u.data)\n",
        "ratings = pd.read_csv(\n",
        "    \"ml-100k/u.data\",\n",
        "    sep=\"\\t\",\n",
        "    names=[\"user_id\", \"movie_id\", \"rating\", \"timestamp\"]\n",
        ")\n",
        "\n",
        "# Load movies (u.item)\n",
        "movies = pd.read_csv(\n",
        "    \"ml-100k/u.item\",\n",
        "    sep=\"|\",\n",
        "    names=[\"movie_id\", \"title\", \"release_date\", \"video_release_date\", \"IMDb_URL\",\n",
        "           \"unknown\", \"Action\", \"Adventure\", \"Animation\", \"Children's\", \"Comedy\", \"Crime\",\n",
        "           \"Documentary\", \"Drama\", \"Fantasy\", \"Film-Noir\", \"Horror\", \"Musical\", \"Mystery\",\n",
        "           \"Romance\", \"Sci-Fi\", \"Thriller\", \"War\", \"Western\"],\n",
        "    encoding=\"latin-1\"\n",
        ")\n",
        "\n",
        "# Load users (u.user)\n",
        "users = pd.read_csv(\n",
        "    \"ml-100k/u.user\",\n",
        "    sep=\"|\",\n",
        "    names=[\"user_id\", \"age\", \"gender\", \"occupation\", \"zip_code\"]\n",
        ")\n",
        "\n",
        "# Quick checks\n",
        "print(\"Ratings:\\n\", ratings.head(), \"\\n\")\n",
        "print(\"Movies:\\n\", movies.head(), \"\\n\")\n",
        "print(\"Users:\\n\", users.head(), \"\\n\")"
      ],
      "metadata": {
        "colab": {
          "base_uri": "https://localhost:8080/"
        },
        "id": "sNiGgTSzjaff",
        "outputId": "6a4e151b-acc2-460b-96f6-3546aa054a7a"
      },
      "execution_count": 20,
      "outputs": [
        {
          "output_type": "stream",
          "name": "stdout",
          "text": [
            "Ratings:\n",
            "    user_id  movie_id  rating  timestamp\n",
            "0      196       242       3  881250949\n",
            "1      186       302       3  891717742\n",
            "2       22       377       1  878887116\n",
            "3      244        51       2  880606923\n",
            "4      166       346       1  886397596 \n",
            "\n",
            "Movies:\n",
            "    movie_id              title release_date  video_release_date  \\\n",
            "0         1   Toy Story (1995)  01-Jan-1995                 NaN   \n",
            "1         2   GoldenEye (1995)  01-Jan-1995                 NaN   \n",
            "2         3  Four Rooms (1995)  01-Jan-1995                 NaN   \n",
            "3         4  Get Shorty (1995)  01-Jan-1995                 NaN   \n",
            "4         5     Copycat (1995)  01-Jan-1995                 NaN   \n",
            "\n",
            "                                            IMDb_URL  unknown  Action  \\\n",
            "0  http://us.imdb.com/M/title-exact?Toy%20Story%2...        0       0   \n",
            "1  http://us.imdb.com/M/title-exact?GoldenEye%20(...        0       1   \n",
            "2  http://us.imdb.com/M/title-exact?Four%20Rooms%...        0       0   \n",
            "3  http://us.imdb.com/M/title-exact?Get%20Shorty%...        0       1   \n",
            "4  http://us.imdb.com/M/title-exact?Copycat%20(1995)        0       0   \n",
            "\n",
            "   Adventure  Animation  Children's  ...  Fantasy  Film-Noir  Horror  Musical  \\\n",
            "0          0          1           1  ...        0          0       0        0   \n",
            "1          1          0           0  ...        0          0       0        0   \n",
            "2          0          0           0  ...        0          0       0        0   \n",
            "3          0          0           0  ...        0          0       0        0   \n",
            "4          0          0           0  ...        0          0       0        0   \n",
            "\n",
            "   Mystery  Romance  Sci-Fi  Thriller  War  Western  \n",
            "0        0        0       0         0    0        0  \n",
            "1        0        0       0         1    0        0  \n",
            "2        0        0       0         1    0        0  \n",
            "3        0        0       0         0    0        0  \n",
            "4        0        0       0         1    0        0  \n",
            "\n",
            "[5 rows x 24 columns] \n",
            "\n",
            "Users:\n",
            "    user_id  age gender  occupation zip_code\n",
            "0        1   24      M  technician    85711\n",
            "1        2   53      F       other    94043\n",
            "2        3   23      M      writer    32067\n",
            "3        4   24      M  technician    43537\n",
            "4        5   33      F       other    15213 \n",
            "\n"
          ]
        }
      ]
    },
    {
      "cell_type": "code",
      "source": [
        "print(\"ratings dtypes:\\n\", ratings.dtypes)\n",
        "print(\"\\nmovies dtypes:\\n\", movies.dtypes)\n",
        "print(\"\\nusers dtypes:\\n\", users.dtypes)\n",
        "# missing values\n",
        "print(\"\\nMissing values:\")\n",
        "print(\"ratings:\\n\", ratings.isnull().sum())\n",
        "print(\"movies:\\n\", movies.isnull().sum())\n",
        "print(\"users:\\n\", users.isnull().sum())\n",
        "# duplicates\n",
        "print(\"\\nDuplicates:\")\n",
        "print(\"ratings duplicated rows:\", ratings.duplicated().sum())\n",
        "print(\"movies duplicated movie_id:\", movies.duplicated(subset=[\"movie_id\"]).sum())\n",
        "print(\"users duplicated user_id:\", users.duplicated(subset=[\"user_id\"]).sum())"
      ],
      "metadata": {
        "colab": {
          "base_uri": "https://localhost:8080/"
        },
        "id": "00GlmoqxED-E",
        "outputId": "aa17618f-2399-4906-c9b7-56311c031944"
      },
      "execution_count": 48,
      "outputs": [
        {
          "output_type": "stream",
          "name": "stdout",
          "text": [
            "ratings dtypes:\n",
            " user_id      int64\n",
            "movie_id     int64\n",
            "rating       int64\n",
            "timestamp    int64\n",
            "dtype: object\n",
            "\n",
            "movies dtypes:\n",
            " movie_id                int64\n",
            "title                  object\n",
            "release_date           object\n",
            "video_release_date    float64\n",
            "IMDb_URL               object\n",
            "unknown                 int64\n",
            "Action                  int64\n",
            "Adventure               int64\n",
            "Animation               int64\n",
            "Children's              int64\n",
            "Comedy                  int64\n",
            "Crime                   int64\n",
            "Documentary             int64\n",
            "Drama                   int64\n",
            "Fantasy                 int64\n",
            "Film-Noir               int64\n",
            "Horror                  int64\n",
            "Musical                 int64\n",
            "Mystery                 int64\n",
            "Romance                 int64\n",
            "Sci-Fi                  int64\n",
            "Thriller                int64\n",
            "War                     int64\n",
            "Western                 int64\n",
            "dtype: object\n",
            "\n",
            "users dtypes:\n",
            " user_id        int64\n",
            "age            int64\n",
            "gender        object\n",
            "occupation    object\n",
            "zip_code      object\n",
            "dtype: object\n",
            "\n",
            "Missing values:\n",
            "ratings:\n",
            " user_id      0\n",
            "movie_id     0\n",
            "rating       0\n",
            "timestamp    0\n",
            "dtype: int64\n",
            "movies:\n",
            " movie_id                 0\n",
            "title                    0\n",
            "release_date             1\n",
            "video_release_date    1682\n",
            "IMDb_URL                 3\n",
            "unknown                  0\n",
            "Action                   0\n",
            "Adventure                0\n",
            "Animation                0\n",
            "Children's               0\n",
            "Comedy                   0\n",
            "Crime                    0\n",
            "Documentary              0\n",
            "Drama                    0\n",
            "Fantasy                  0\n",
            "Film-Noir                0\n",
            "Horror                   0\n",
            "Musical                  0\n",
            "Mystery                  0\n",
            "Romance                  0\n",
            "Sci-Fi                   0\n",
            "Thriller                 0\n",
            "War                      0\n",
            "Western                  0\n",
            "dtype: int64\n",
            "users:\n",
            " user_id       0\n",
            "age           0\n",
            "gender        0\n",
            "occupation    0\n",
            "zip_code      0\n",
            "dtype: int64\n",
            "\n",
            "Duplicates:\n",
            "ratings duplicated rows: 0\n",
            "movies duplicated movie_id: 0\n",
            "users duplicated user_id: 0\n"
          ]
        }
      ]
    },
    {
      "cell_type": "code",
      "source": [
        "print(ratings.shape, ratings.info())\n",
        "print(movies.shape, movies.info())\n",
        "print(users.shape, users.info())"
      ],
      "metadata": {
        "colab": {
          "base_uri": "https://localhost:8080/"
        },
        "id": "om-cT-LEkOm7",
        "outputId": "6b6d7683-17df-47b5-c5fd-7db673483161"
      },
      "execution_count": 21,
      "outputs": [
        {
          "output_type": "stream",
          "name": "stdout",
          "text": [
            "<class 'pandas.core.frame.DataFrame'>\n",
            "RangeIndex: 100000 entries, 0 to 99999\n",
            "Data columns (total 4 columns):\n",
            " #   Column     Non-Null Count   Dtype\n",
            "---  ------     --------------   -----\n",
            " 0   user_id    100000 non-null  int64\n",
            " 1   movie_id   100000 non-null  int64\n",
            " 2   rating     100000 non-null  int64\n",
            " 3   timestamp  100000 non-null  int64\n",
            "dtypes: int64(4)\n",
            "memory usage: 3.1 MB\n",
            "(100000, 4) None\n",
            "<class 'pandas.core.frame.DataFrame'>\n",
            "RangeIndex: 1682 entries, 0 to 1681\n",
            "Data columns (total 24 columns):\n",
            " #   Column              Non-Null Count  Dtype  \n",
            "---  ------              --------------  -----  \n",
            " 0   movie_id            1682 non-null   int64  \n",
            " 1   title               1682 non-null   object \n",
            " 2   release_date        1681 non-null   object \n",
            " 3   video_release_date  0 non-null      float64\n",
            " 4   IMDb_URL            1679 non-null   object \n",
            " 5   unknown             1682 non-null   int64  \n",
            " 6   Action              1682 non-null   int64  \n",
            " 7   Adventure           1682 non-null   int64  \n",
            " 8   Animation           1682 non-null   int64  \n",
            " 9   Children's          1682 non-null   int64  \n",
            " 10  Comedy              1682 non-null   int64  \n",
            " 11  Crime               1682 non-null   int64  \n",
            " 12  Documentary         1682 non-null   int64  \n",
            " 13  Drama               1682 non-null   int64  \n",
            " 14  Fantasy             1682 non-null   int64  \n",
            " 15  Film-Noir           1682 non-null   int64  \n",
            " 16  Horror              1682 non-null   int64  \n",
            " 17  Musical             1682 non-null   int64  \n",
            " 18  Mystery             1682 non-null   int64  \n",
            " 19  Romance             1682 non-null   int64  \n",
            " 20  Sci-Fi              1682 non-null   int64  \n",
            " 21  Thriller            1682 non-null   int64  \n",
            " 22  War                 1682 non-null   int64  \n",
            " 23  Western             1682 non-null   int64  \n",
            "dtypes: float64(1), int64(20), object(3)\n",
            "memory usage: 315.5+ KB\n",
            "(1682, 24) None\n",
            "<class 'pandas.core.frame.DataFrame'>\n",
            "RangeIndex: 943 entries, 0 to 942\n",
            "Data columns (total 5 columns):\n",
            " #   Column      Non-Null Count  Dtype \n",
            "---  ------      --------------  ----- \n",
            " 0   user_id     943 non-null    int64 \n",
            " 1   age         943 non-null    int64 \n",
            " 2   gender      943 non-null    object\n",
            " 3   occupation  943 non-null    object\n",
            " 4   zip_code    943 non-null    object\n",
            "dtypes: int64(2), object(3)\n",
            "memory usage: 37.0+ KB\n",
            "(943, 5) None\n"
          ]
        }
      ]
    },
    {
      "cell_type": "code",
      "source": [
        "print(ratings[\"rating\"].describe())\n",
        "print(\"Unique users:\", ratings[\"user_id\"].nunique())\n",
        "print(\"Unique movies:\", ratings[\"movie_id\"].nunique())"
      ],
      "metadata": {
        "colab": {
          "base_uri": "https://localhost:8080/"
        },
        "id": "qGxhjPmhkZ6I",
        "outputId": "e2675361-0e38-43ca-f436-c4be4c39961e"
      },
      "execution_count": 22,
      "outputs": [
        {
          "output_type": "stream",
          "name": "stdout",
          "text": [
            "count    100000.000000\n",
            "mean          3.529860\n",
            "std           1.125674\n",
            "min           1.000000\n",
            "25%           3.000000\n",
            "50%           4.000000\n",
            "75%           4.000000\n",
            "max           5.000000\n",
            "Name: rating, dtype: float64\n",
            "Unique users: 943\n",
            "Unique movies: 1682\n"
          ]
        }
      ]
    },
    {
      "cell_type": "code",
      "source": [
        "ratings_movies = pd.merge(ratings, movies[[\"movie_id\", \"title\"]], on=\"movie_id\")\n",
        "ratings_movies.head()"
      ],
      "metadata": {
        "colab": {
          "base_uri": "https://localhost:8080/",
          "height": 206
        },
        "id": "sCs0r4V1kjqW",
        "outputId": "22bf5abd-f2fa-4cca-a22d-6c177c0d0a54"
      },
      "execution_count": 23,
      "outputs": [
        {
          "output_type": "execute_result",
          "data": {
            "text/plain": [
              "   user_id  movie_id  rating  timestamp                       title\n",
              "0      196       242       3  881250949                Kolya (1996)\n",
              "1      186       302       3  891717742    L.A. Confidential (1997)\n",
              "2       22       377       1  878887116         Heavyweights (1994)\n",
              "3      244        51       2  880606923  Legends of the Fall (1994)\n",
              "4      166       346       1  886397596         Jackie Brown (1997)"
            ],
            "text/html": [
              "\n",
              "  <div id=\"df-a4c62cdf-38d3-4eed-89e6-ce98422a3412\" class=\"colab-df-container\">\n",
              "    <div>\n",
              "<style scoped>\n",
              "    .dataframe tbody tr th:only-of-type {\n",
              "        vertical-align: middle;\n",
              "    }\n",
              "\n",
              "    .dataframe tbody tr th {\n",
              "        vertical-align: top;\n",
              "    }\n",
              "\n",
              "    .dataframe thead th {\n",
              "        text-align: right;\n",
              "    }\n",
              "</style>\n",
              "<table border=\"1\" class=\"dataframe\">\n",
              "  <thead>\n",
              "    <tr style=\"text-align: right;\">\n",
              "      <th></th>\n",
              "      <th>user_id</th>\n",
              "      <th>movie_id</th>\n",
              "      <th>rating</th>\n",
              "      <th>timestamp</th>\n",
              "      <th>title</th>\n",
              "    </tr>\n",
              "  </thead>\n",
              "  <tbody>\n",
              "    <tr>\n",
              "      <th>0</th>\n",
              "      <td>196</td>\n",
              "      <td>242</td>\n",
              "      <td>3</td>\n",
              "      <td>881250949</td>\n",
              "      <td>Kolya (1996)</td>\n",
              "    </tr>\n",
              "    <tr>\n",
              "      <th>1</th>\n",
              "      <td>186</td>\n",
              "      <td>302</td>\n",
              "      <td>3</td>\n",
              "      <td>891717742</td>\n",
              "      <td>L.A. Confidential (1997)</td>\n",
              "    </tr>\n",
              "    <tr>\n",
              "      <th>2</th>\n",
              "      <td>22</td>\n",
              "      <td>377</td>\n",
              "      <td>1</td>\n",
              "      <td>878887116</td>\n",
              "      <td>Heavyweights (1994)</td>\n",
              "    </tr>\n",
              "    <tr>\n",
              "      <th>3</th>\n",
              "      <td>244</td>\n",
              "      <td>51</td>\n",
              "      <td>2</td>\n",
              "      <td>880606923</td>\n",
              "      <td>Legends of the Fall (1994)</td>\n",
              "    </tr>\n",
              "    <tr>\n",
              "      <th>4</th>\n",
              "      <td>166</td>\n",
              "      <td>346</td>\n",
              "      <td>1</td>\n",
              "      <td>886397596</td>\n",
              "      <td>Jackie Brown (1997)</td>\n",
              "    </tr>\n",
              "  </tbody>\n",
              "</table>\n",
              "</div>\n",
              "    <div class=\"colab-df-buttons\">\n",
              "\n",
              "  <div class=\"colab-df-container\">\n",
              "    <button class=\"colab-df-convert\" onclick=\"convertToInteractive('df-a4c62cdf-38d3-4eed-89e6-ce98422a3412')\"\n",
              "            title=\"Convert this dataframe to an interactive table.\"\n",
              "            style=\"display:none;\">\n",
              "\n",
              "  <svg xmlns=\"http://www.w3.org/2000/svg\" height=\"24px\" viewBox=\"0 -960 960 960\">\n",
              "    <path d=\"M120-120v-720h720v720H120Zm60-500h600v-160H180v160Zm220 220h160v-160H400v160Zm0 220h160v-160H400v160ZM180-400h160v-160H180v160Zm440 0h160v-160H620v160ZM180-180h160v-160H180v160Zm440 0h160v-160H620v160Z\"/>\n",
              "  </svg>\n",
              "    </button>\n",
              "\n",
              "  <style>\n",
              "    .colab-df-container {\n",
              "      display:flex;\n",
              "      gap: 12px;\n",
              "    }\n",
              "\n",
              "    .colab-df-convert {\n",
              "      background-color: #E8F0FE;\n",
              "      border: none;\n",
              "      border-radius: 50%;\n",
              "      cursor: pointer;\n",
              "      display: none;\n",
              "      fill: #1967D2;\n",
              "      height: 32px;\n",
              "      padding: 0 0 0 0;\n",
              "      width: 32px;\n",
              "    }\n",
              "\n",
              "    .colab-df-convert:hover {\n",
              "      background-color: #E2EBFA;\n",
              "      box-shadow: 0px 1px 2px rgba(60, 64, 67, 0.3), 0px 1px 3px 1px rgba(60, 64, 67, 0.15);\n",
              "      fill: #174EA6;\n",
              "    }\n",
              "\n",
              "    .colab-df-buttons div {\n",
              "      margin-bottom: 4px;\n",
              "    }\n",
              "\n",
              "    [theme=dark] .colab-df-convert {\n",
              "      background-color: #3B4455;\n",
              "      fill: #D2E3FC;\n",
              "    }\n",
              "\n",
              "    [theme=dark] .colab-df-convert:hover {\n",
              "      background-color: #434B5C;\n",
              "      box-shadow: 0px 1px 3px 1px rgba(0, 0, 0, 0.15);\n",
              "      filter: drop-shadow(0px 1px 2px rgba(0, 0, 0, 0.3));\n",
              "      fill: #FFFFFF;\n",
              "    }\n",
              "  </style>\n",
              "\n",
              "    <script>\n",
              "      const buttonEl =\n",
              "        document.querySelector('#df-a4c62cdf-38d3-4eed-89e6-ce98422a3412 button.colab-df-convert');\n",
              "      buttonEl.style.display =\n",
              "        google.colab.kernel.accessAllowed ? 'block' : 'none';\n",
              "\n",
              "      async function convertToInteractive(key) {\n",
              "        const element = document.querySelector('#df-a4c62cdf-38d3-4eed-89e6-ce98422a3412');\n",
              "        const dataTable =\n",
              "          await google.colab.kernel.invokeFunction('convertToInteractive',\n",
              "                                                    [key], {});\n",
              "        if (!dataTable) return;\n",
              "\n",
              "        const docLinkHtml = 'Like what you see? Visit the ' +\n",
              "          '<a target=\"_blank\" href=https://colab.research.google.com/notebooks/data_table.ipynb>data table notebook</a>'\n",
              "          + ' to learn more about interactive tables.';\n",
              "        element.innerHTML = '';\n",
              "        dataTable['output_type'] = 'display_data';\n",
              "        await google.colab.output.renderOutput(dataTable, element);\n",
              "        const docLink = document.createElement('div');\n",
              "        docLink.innerHTML = docLinkHtml;\n",
              "        element.appendChild(docLink);\n",
              "      }\n",
              "    </script>\n",
              "  </div>\n",
              "\n",
              "\n",
              "    <div id=\"df-dbce50ad-9be0-4163-8ae2-a5d44ec8d4c7\">\n",
              "      <button class=\"colab-df-quickchart\" onclick=\"quickchart('df-dbce50ad-9be0-4163-8ae2-a5d44ec8d4c7')\"\n",
              "                title=\"Suggest charts\"\n",
              "                style=\"display:none;\">\n",
              "\n",
              "<svg xmlns=\"http://www.w3.org/2000/svg\" height=\"24px\"viewBox=\"0 0 24 24\"\n",
              "     width=\"24px\">\n",
              "    <g>\n",
              "        <path d=\"M19 3H5c-1.1 0-2 .9-2 2v14c0 1.1.9 2 2 2h14c1.1 0 2-.9 2-2V5c0-1.1-.9-2-2-2zM9 17H7v-7h2v7zm4 0h-2V7h2v10zm4 0h-2v-4h2v4z\"/>\n",
              "    </g>\n",
              "</svg>\n",
              "      </button>\n",
              "\n",
              "<style>\n",
              "  .colab-df-quickchart {\n",
              "      --bg-color: #E8F0FE;\n",
              "      --fill-color: #1967D2;\n",
              "      --hover-bg-color: #E2EBFA;\n",
              "      --hover-fill-color: #174EA6;\n",
              "      --disabled-fill-color: #AAA;\n",
              "      --disabled-bg-color: #DDD;\n",
              "  }\n",
              "\n",
              "  [theme=dark] .colab-df-quickchart {\n",
              "      --bg-color: #3B4455;\n",
              "      --fill-color: #D2E3FC;\n",
              "      --hover-bg-color: #434B5C;\n",
              "      --hover-fill-color: #FFFFFF;\n",
              "      --disabled-bg-color: #3B4455;\n",
              "      --disabled-fill-color: #666;\n",
              "  }\n",
              "\n",
              "  .colab-df-quickchart {\n",
              "    background-color: var(--bg-color);\n",
              "    border: none;\n",
              "    border-radius: 50%;\n",
              "    cursor: pointer;\n",
              "    display: none;\n",
              "    fill: var(--fill-color);\n",
              "    height: 32px;\n",
              "    padding: 0;\n",
              "    width: 32px;\n",
              "  }\n",
              "\n",
              "  .colab-df-quickchart:hover {\n",
              "    background-color: var(--hover-bg-color);\n",
              "    box-shadow: 0 1px 2px rgba(60, 64, 67, 0.3), 0 1px 3px 1px rgba(60, 64, 67, 0.15);\n",
              "    fill: var(--button-hover-fill-color);\n",
              "  }\n",
              "\n",
              "  .colab-df-quickchart-complete:disabled,\n",
              "  .colab-df-quickchart-complete:disabled:hover {\n",
              "    background-color: var(--disabled-bg-color);\n",
              "    fill: var(--disabled-fill-color);\n",
              "    box-shadow: none;\n",
              "  }\n",
              "\n",
              "  .colab-df-spinner {\n",
              "    border: 2px solid var(--fill-color);\n",
              "    border-color: transparent;\n",
              "    border-bottom-color: var(--fill-color);\n",
              "    animation:\n",
              "      spin 1s steps(1) infinite;\n",
              "  }\n",
              "\n",
              "  @keyframes spin {\n",
              "    0% {\n",
              "      border-color: transparent;\n",
              "      border-bottom-color: var(--fill-color);\n",
              "      border-left-color: var(--fill-color);\n",
              "    }\n",
              "    20% {\n",
              "      border-color: transparent;\n",
              "      border-left-color: var(--fill-color);\n",
              "      border-top-color: var(--fill-color);\n",
              "    }\n",
              "    30% {\n",
              "      border-color: transparent;\n",
              "      border-left-color: var(--fill-color);\n",
              "      border-top-color: var(--fill-color);\n",
              "      border-right-color: var(--fill-color);\n",
              "    }\n",
              "    40% {\n",
              "      border-color: transparent;\n",
              "      border-right-color: var(--fill-color);\n",
              "      border-top-color: var(--fill-color);\n",
              "    }\n",
              "    60% {\n",
              "      border-color: transparent;\n",
              "      border-right-color: var(--fill-color);\n",
              "    }\n",
              "    80% {\n",
              "      border-color: transparent;\n",
              "      border-right-color: var(--fill-color);\n",
              "      border-bottom-color: var(--fill-color);\n",
              "    }\n",
              "    90% {\n",
              "      border-color: transparent;\n",
              "      border-bottom-color: var(--fill-color);\n",
              "    }\n",
              "  }\n",
              "</style>\n",
              "\n",
              "      <script>\n",
              "        async function quickchart(key) {\n",
              "          const quickchartButtonEl =\n",
              "            document.querySelector('#' + key + ' button');\n",
              "          quickchartButtonEl.disabled = true;  // To prevent multiple clicks.\n",
              "          quickchartButtonEl.classList.add('colab-df-spinner');\n",
              "          try {\n",
              "            const charts = await google.colab.kernel.invokeFunction(\n",
              "                'suggestCharts', [key], {});\n",
              "          } catch (error) {\n",
              "            console.error('Error during call to suggestCharts:', error);\n",
              "          }\n",
              "          quickchartButtonEl.classList.remove('colab-df-spinner');\n",
              "          quickchartButtonEl.classList.add('colab-df-quickchart-complete');\n",
              "        }\n",
              "        (() => {\n",
              "          let quickchartButtonEl =\n",
              "            document.querySelector('#df-dbce50ad-9be0-4163-8ae2-a5d44ec8d4c7 button');\n",
              "          quickchartButtonEl.style.display =\n",
              "            google.colab.kernel.accessAllowed ? 'block' : 'none';\n",
              "        })();\n",
              "      </script>\n",
              "    </div>\n",
              "\n",
              "    </div>\n",
              "  </div>\n"
            ],
            "application/vnd.google.colaboratory.intrinsic+json": {
              "type": "dataframe",
              "variable_name": "ratings_movies",
              "summary": "{\n  \"name\": \"ratings_movies\",\n  \"rows\": 100000,\n  \"fields\": [\n    {\n      \"column\": \"user_id\",\n      \"properties\": {\n        \"dtype\": \"number\",\n        \"std\": 266,\n        \"min\": 1,\n        \"max\": 943,\n        \"num_unique_values\": 943,\n        \"samples\": [\n          262,\n          136,\n          821\n        ],\n        \"semantic_type\": \"\",\n        \"description\": \"\"\n      }\n    },\n    {\n      \"column\": \"movie_id\",\n      \"properties\": {\n        \"dtype\": \"number\",\n        \"std\": 330,\n        \"min\": 1,\n        \"max\": 1682,\n        \"num_unique_values\": 1682,\n        \"samples\": [\n          1557,\n          808,\n          1618\n        ],\n        \"semantic_type\": \"\",\n        \"description\": \"\"\n      }\n    },\n    {\n      \"column\": \"rating\",\n      \"properties\": {\n        \"dtype\": \"number\",\n        \"std\": 1,\n        \"min\": 1,\n        \"max\": 5,\n        \"num_unique_values\": 5,\n        \"samples\": [\n          1,\n          5,\n          2\n        ],\n        \"semantic_type\": \"\",\n        \"description\": \"\"\n      }\n    },\n    {\n      \"column\": \"timestamp\",\n      \"properties\": {\n        \"dtype\": \"number\",\n        \"std\": 5343856,\n        \"min\": 874724710,\n        \"max\": 893286638,\n        \"num_unique_values\": 49282,\n        \"samples\": [\n          889728713,\n          888443306,\n          880605158\n        ],\n        \"semantic_type\": \"\",\n        \"description\": \"\"\n      }\n    },\n    {\n      \"column\": \"title\",\n      \"properties\": {\n        \"dtype\": \"category\",\n        \"num_unique_values\": 1664,\n        \"samples\": [\n          \"House Party 3 (1994)\",\n          \"Three Colors: White (1994)\",\n          \"Fish Called Wanda, A (1988)\"\n        ],\n        \"semantic_type\": \"\",\n        \"description\": \"\"\n      }\n    }\n  ]\n}"
            }
          },
          "metadata": {},
          "execution_count": 23
        }
      ]
    },
    {
      "cell_type": "code",
      "source": [
        "print(\"Ratings:\", ratings.shape)\n",
        "print(\"Movies:\", movies.shape)\n",
        "print(\"Users:\", users.shape)"
      ],
      "metadata": {
        "colab": {
          "base_uri": "https://localhost:8080/"
        },
        "id": "dstoZST7kzCe",
        "outputId": "5f9e6178-fdc7-4358-d1fe-55e4773e216a"
      },
      "execution_count": 24,
      "outputs": [
        {
          "output_type": "stream",
          "name": "stdout",
          "text": [
            "Ratings: (100000, 4)\n",
            "Movies: (1682, 24)\n",
            "Users: (943, 5)\n"
          ]
        }
      ]
    },
    {
      "cell_type": "code",
      "source": [
        "# timestamp -> datetime\n",
        "ratings[\"timestamp\"] = pd.to_datetime(ratings[\"timestamp\"], unit=\"s\")\n",
        "# movie release_date parse (some may be NaT)\n",
        "movies[\"release_date\"] = pd.to_datetime(movies[\"release_date\"], format=\"%d-%b-%Y\", errors=\"coerce\")\n",
        "# ensure types\n",
        "users[\"age\"] = users[\"age\"].astype(int)\n",
        "# quick check\n",
        "print(ratings.head())\n",
        "print(movies[[\"movie_id\",\"title\",\"release_date\"]].head())"
      ],
      "metadata": {
        "colab": {
          "base_uri": "https://localhost:8080/"
        },
        "id": "BYingy-VEhO7",
        "outputId": "d496e9fb-aac6-4e11-f047-380973aa5013"
      },
      "execution_count": 49,
      "outputs": [
        {
          "output_type": "stream",
          "name": "stdout",
          "text": [
            "   user_id  movie_id  rating           timestamp\n",
            "0      196       242       3 1997-12-04 15:55:49\n",
            "1      186       302       3 1998-04-04 19:22:22\n",
            "2       22       377       1 1997-11-07 07:18:36\n",
            "3      244        51       2 1997-11-27 05:02:03\n",
            "4      166       346       1 1998-02-02 05:33:16\n",
            "   movie_id              title release_date\n",
            "0         1   Toy Story (1995)   1995-01-01\n",
            "1         2   GoldenEye (1995)   1995-01-01\n",
            "2         3  Four Rooms (1995)   1995-01-01\n",
            "3         4  Get Shorty (1995)   1995-01-01\n",
            "4         5     Copycat (1995)   1995-01-01\n"
          ]
        }
      ]
    },
    {
      "cell_type": "code",
      "source": [
        "ratings_movies = pd.merge(ratings, movies[[\"movie_id\", \"title\"]], on=\"movie_id\")\n",
        "\n",
        "top_movies = (\n",
        "    ratings_movies.groupby(\"title\")[\"rating\"]\n",
        "    .count()\n",
        "    .sort_values(ascending=False)\n",
        "    .head(10)\n",
        ")\n",
        "\n",
        "print(top_movies)"
      ],
      "metadata": {
        "colab": {
          "base_uri": "https://localhost:8080/"
        },
        "id": "PpBK5zs9lUeA",
        "outputId": "0e06dc1e-f782-46ef-b99e-a9da5bb81717"
      },
      "execution_count": 26,
      "outputs": [
        {
          "output_type": "stream",
          "name": "stdout",
          "text": [
            "title\n",
            "Star Wars (1977)                 583\n",
            "Contact (1997)                   509\n",
            "Fargo (1996)                     508\n",
            "Return of the Jedi (1983)        507\n",
            "Liar Liar (1997)                 485\n",
            "English Patient, The (1996)      481\n",
            "Scream (1996)                    478\n",
            "Toy Story (1995)                 452\n",
            "Air Force One (1997)             431\n",
            "Independence Day (ID4) (1996)    429\n",
            "Name: rating, dtype: int64\n"
          ]
        }
      ]
    },
    {
      "cell_type": "code",
      "source": [
        "movie_stats = ratings_movies.groupby(\"title\").agg(\n",
        "    count=(\"rating\", \"count\"),\n",
        "    mean=(\"rating\", \"mean\")\n",
        ")\n",
        "\n",
        "popular_highly_rated = movie_stats[movie_stats[\"count\"] >= 50].sort_values(\n",
        "    \"mean\", ascending=False\n",
        ").head(10)\n",
        "\n",
        "print(popular_highly_rated)"
      ],
      "metadata": {
        "colab": {
          "base_uri": "https://localhost:8080/"
        },
        "id": "8ft3d5molfrV",
        "outputId": "994db639-0b59-40e2-9dbd-61b3e11a412f"
      },
      "execution_count": 27,
      "outputs": [
        {
          "output_type": "stream",
          "name": "stdout",
          "text": [
            "                                                    count      mean\n",
            "title                                                              \n",
            "Close Shave, A (1995)                                 112  4.491071\n",
            "Schindler's List (1993)                               298  4.466443\n",
            "Wrong Trousers, The (1993)                            118  4.466102\n",
            "Casablanca (1942)                                     243  4.456790\n",
            "Wallace & Gromit: The Best of Aardman Animation...     67  4.447761\n",
            "Shawshank Redemption, The (1994)                      283  4.445230\n",
            "Rear Window (1954)                                    209  4.387560\n",
            "Usual Suspects, The (1995)                            267  4.385768\n",
            "Star Wars (1977)                                      583  4.358491\n",
            "12 Angry Men (1957)                                   125  4.344000\n"
          ]
        }
      ]
    },
    {
      "cell_type": "code",
      "source": [
        "active_users = ratings.groupby(\"user_id\")[\"rating\"].count().sort_values(ascending=False).head(10)\n",
        "print(active_users)"
      ],
      "metadata": {
        "colab": {
          "base_uri": "https://localhost:8080/"
        },
        "id": "CXkvXjcrluMO",
        "outputId": "a3b3020d-3b57-44fa-a728-45de46b2ceee"
      },
      "execution_count": 28,
      "outputs": [
        {
          "output_type": "stream",
          "name": "stdout",
          "text": [
            "user_id\n",
            "405    737\n",
            "655    685\n",
            "13     636\n",
            "450    540\n",
            "276    518\n",
            "416    493\n",
            "537    490\n",
            "303    484\n",
            "234    480\n",
            "393    448\n",
            "Name: rating, dtype: int64\n"
          ]
        }
      ]
    },
    {
      "cell_type": "markdown",
      "source": [
        "📊 1. Ratings Distribution"
      ],
      "metadata": {
        "id": "67yWSzXyp3pr"
      }
    },
    {
      "cell_type": "code",
      "source": [
        "ratings[\"rating\"].value_counts().sort_index().plot(\n",
        "    kind=\"bar\", title=\"Ratings distribution\"\n",
        ")\n",
        "plt.xlabel(\"Rating\")\n",
        "plt.ylabel(\"Count\")\n",
        "plt.show()"
      ],
      "metadata": {
        "colab": {
          "base_uri": "https://localhost:8080/",
          "height": 467
        },
        "id": "GLlqP2f2lSlP",
        "outputId": "d9baa053-d215-485b-d234-1fb96321b994"
      },
      "execution_count": 25,
      "outputs": [
        {
          "output_type": "display_data",
          "data": {
            "text/plain": [
              "<Figure size 640x480 with 1 Axes>"
            ],
            "image/png": "[encoded data removed]"
          },
          "metadata": {}
        }
      ]
    },
    {
      "cell_type": "markdown",
      "source": [
        "📊 2. Number of Ratings per Movie"
      ],
      "metadata": {
        "id": "OkslY3Fzp1jS"
      }
    },
    {
      "cell_type": "code",
      "source": [
        "ratings_per_movie = ratings.groupby(\"movie_id\")[\"rating\"].count()\n",
        "plt.figure(figsize=(8,4))\n",
        "sns.histplot(ratings_per_movie, bins=50, kde=True, color=\"purple\")\n",
        "plt.title(\"Number of Ratings per Movie\")\n",
        "plt.xlabel(\"Number of Ratings\")\n",
        "plt.ylabel(\"Number of Movies\")\n",
        "plt.show()"
      ],
      "metadata": {
        "colab": {
          "base_uri": "https://localhost:8080/",
          "height": 410
        },
        "id": "e-M0q_ikotTU",
        "outputId": "3465da7d-baef-4240-e108-b1b43e215407"
      },
      "execution_count": 34,
      "outputs": [
        {
          "output_type": "display_data",
          "data": {
            "text/plain": [
              "<Figure size 800x400 with 1 Axes>"
            ],
            "image/png": "[encoded data removed]"
          },
          "metadata": {}
        }
      ]
    },
    {
      "cell_type": "markdown",
      "source": [
        "📊 3. Top 10 Most Rated Movies"
      ],
      "metadata": {
        "id": "xwE3akQ0p2e7"
      }
    },
    {
      "cell_type": "code",
      "source": [
        "ratings_movies = pd.merge(ratings, movies[[\"movie_id\", \"title\"]], on=\"movie_id\")\n",
        "top10_movies= ratings_movies['title'].value_counts().head(10)\n",
        "plt.figure(figsize=(10,5))\n",
        "sns.barplot(x=top_movies.values, y=top_movies.index, palette=\"viridis\")\n",
        "plt.title(\"Top 10 Most Rated Movies\")\n",
        "plt.xlabel(\"Number of Ratings\")\n",
        "plt.ylabel(\"Movie Title\")\n",
        "plt.show()"
      ],
      "metadata": {
        "colab": {
          "base_uri": "https://localhost:8080/",
          "height": 574
        },
        "id": "AQDFO5XRpPj3",
        "outputId": "8b54c594-29b7-40ca-acb3-12ee346b6a82"
      },
      "execution_count": 35,
      "outputs": [
        {
          "output_type": "stream",
          "name": "stderr",
          "text": [
            "/tmp/ipython-input-1488430555.py:4: FutureWarning: \n",
            "\n",
            "Passing `palette` without assigning `hue` is deprecated and will be removed in v0.14.0. Assign the `y` variable to `hue` and set `legend=False` for the same effect.\n",
            "\n",
            "  sns.barplot(x=top_movies.values, y=top_movies.index, palette=\"viridis\")\n"
          ]
        },
        {
          "output_type": "display_data",
          "data": {
            "text/plain": [
              "<Figure size 1000x500 with 1 Axes>"
            ],
            "image/png": "[encoded data removed]"
          },
          "metadata": {}
        }
      ]
    },
    {
      "cell_type": "markdown",
      "source": [
        "📊 4. Average Ratings of Top Popular Movies"
      ],
      "metadata": {
        "id": "_8glFK9kp-ov"
      }
    },
    {
      "cell_type": "code",
      "source": [
        "movie_stats = ratings_movies.groupby(\"title\").agg(\n",
        "    count=(\"rating\", \"count\"),\n",
        "    mean=(\"rating\", \"mean\")\n",
        ")\n",
        "popular_movies = movie_stats.query(\"count >= 100\").sort_values(\"mean\", ascending=False).head(10)\n",
        "plt.figure(figsize=(10,5))\n",
        "sns.barplot(x=popular_movies[\"mean\"], y=popular_movies.index, palette=\"coolwarm\")\n",
        "plt.title(\"Top 10 Movies by Average Rating (min 100 ratings)\")\n",
        "plt.xlabel(\"Average Rating\")\n",
        "plt.ylabel(\"Movie Title\")\n",
        "plt.show()"
      ],
      "metadata": {
        "colab": {
          "base_uri": "https://localhost:8080/",
          "height": 574
        },
        "id": "q-IPBGbJpjRY",
        "outputId": "041677a7-b8ca-4b2c-e04b-2429ecf19e06"
      },
      "execution_count": 36,
      "outputs": [
        {
          "output_type": "stream",
          "name": "stderr",
          "text": [
            "/tmp/ipython-input-1423794710.py:8: FutureWarning: \n",
            "\n",
            "Passing `palette` without assigning `hue` is deprecated and will be removed in v0.14.0. Assign the `y` variable to `hue` and set `legend=False` for the same effect.\n",
            "\n",
            "  sns.barplot(x=popular_movies[\"mean\"], y=popular_movies.index, palette=\"coolwarm\")\n"
          ]
        },
        {
          "output_type": "display_data",
          "data": {
            "text/plain": [
              "<Figure size 1000x500 with 1 Axes>"
            ],
            "image/png": "[encoded data removed]"
          },
          "metadata": {}
        }
      ]
    },
    {
      "cell_type": "markdown",
      "source": [
        "📊 5. User Age Distribution"
      ],
      "metadata": {
        "id": "e4eR369kpwvI"
      }
    },
    {
      "cell_type": "code",
      "source": [
        "plt.figure(figsize=(8,5))\n",
        "sns.histplot(users[\"age\"], bins=30, kde=True, color=\"green\")\n",
        "plt.title(\"User Age Distribution\")\n",
        "plt.xlabel(\"Age\")\n",
        "plt.ylabel(\"Count\")\n",
        "plt.show()"
      ],
      "metadata": {
        "colab": {
          "base_uri": "https://localhost:8080/",
          "height": 487
        },
        "id": "-xZcNUW-pr7N",
        "outputId": "49b78cb6-90c3-4ea6-fc85-e04a3f876f20"
      },
      "execution_count": 37,
      "outputs": [
        {
          "output_type": "display_data",
          "data": {
            "text/plain": [
              "<Figure size 800x500 with 1 Axes>"
            ],
            "image/png": "[encoded data removed]"
          },
          "metadata": {}
        }
      ]
    },
    {
      "cell_type": "code",
      "source": [
        "# Merge ratings + movies + users\n",
        "data = ratings.merge(movies[[\"movie_id\", \"title\", \"Comedy\", \"Drama\", \"Action\", \"Romance\", \"Sci-Fi\"]], on=\"movie_id\")\n",
        "data = data.merge(users[[\"user_id\", \"gender\"]], on=\"user_id\")\n",
        "print(data.head())"
      ],
      "metadata": {
        "colab": {
          "base_uri": "https://localhost:8080/"
        },
        "id": "Ysd5xg61qPUG",
        "outputId": "66547c56-b655-4cd1-b401-84d1c55f7ec5"
      },
      "execution_count": 38,
      "outputs": [
        {
          "output_type": "stream",
          "name": "stdout",
          "text": [
            "   user_id  movie_id  rating  timestamp                       title  Comedy  \\\n",
            "0      196       242       3  881250949                Kolya (1996)       1   \n",
            "1      186       302       3  891717742    L.A. Confidential (1997)       0   \n",
            "2       22       377       1  878887116         Heavyweights (1994)       1   \n",
            "3      244        51       2  880606923  Legends of the Fall (1994)       0   \n",
            "4      166       346       1  886397596         Jackie Brown (1997)       0   \n",
            "\n",
            "   Drama  Action  Romance  Sci-Fi gender  \n",
            "0      0       0        0       0      M  \n",
            "1      0       0        0       0      F  \n",
            "2      0       0        0       0      M  \n",
            "3      1       0        1       0      M  \n",
            "4      1       0        0       0      M  \n"
          ]
        }
      ]
    },
    {
      "cell_type": "markdown",
      "source": [
        "📊 7. Average Ratings by Gender for Top Genres"
      ],
      "metadata": {
        "id": "ITsWZsShqhMR"
      }
    },
    {
      "cell_type": "code",
      "source": [
        "genre_cols = [\"Comedy\", \"Drama\", \"Action\", \"Romance\", \"Sci-Fi\"]\n",
        "# Melt into long format\n",
        "genre_data = data.melt(\n",
        "    id_vars=[\"user_id\", \"gender\", \"rating\"],\n",
        "    value_vars=genre_cols,\n",
        "    var_name=\"genre\",\n",
        "    value_name=\"is_genre\"\n",
        ")\n",
        "# Keep only rows where is_genre == 1\n",
        "genre_data = genre_data[genre_data[\"is_genre\"] == 1]\n",
        "# Compute mean rating per gender & genre\n",
        "avg_ratings = genre_data.groupby([\"gender\", \"genre\"])[\"rating\"].mean().reset_index()\n",
        "plt.figure(figsize=(8,5))\n",
        "sns.barplot(data=avg_ratings, x=\"genre\", y=\"rating\", hue=\"gender\", palette=\"Set2\")\n",
        "plt.title(\"Average Ratings by Gender & Genre\")\n",
        "plt.ylabel(\"Average Rating\")\n",
        "plt.xlabel(\"Genre\")\n",
        "plt.show()"
      ],
      "metadata": {
        "colab": {
          "base_uri": "https://localhost:8080/",
          "height": 487
        },
        "id": "I6yQ8t12qQno",
        "outputId": "a8e56695-66aa-4f03-bf8c-89d7d16ae4f2"
      },
      "execution_count": 39,
      "outputs": [
        {
          "output_type": "display_data",
          "data": {
            "text/plain": [
              "<Figure size 800x500 with 1 Axes>"
            ],
            "image/png": "[encoded data removed]"
          },
          "metadata": {}
        }
      ]
    },
    {
      "cell_type": "markdown",
      "source": [
        "📊 8. Number of Ratings by Gender & Genre"
      ],
      "metadata": {
        "id": "THNsVOLHqgBp"
      }
    },
    {
      "cell_type": "code",
      "source": [
        "count_ratings = genre_data.groupby([\"gender\", \"genre\"])[\"rating\"].count().reset_index()\n",
        "plt.figure(figsize=(8,5))\n",
        "sns.barplot(data=count_ratings, x=\"genre\", y=\"rating\", hue=\"gender\", palette=\"pastel\")\n",
        "plt.title(\"Number of Ratings by Gender & Genre\")\n",
        "plt.ylabel(\"Number of Ratings\")\n",
        "plt.xlabel(\"Genre\")\n",
        "plt.show()"
      ],
      "metadata": {
        "colab": {
          "base_uri": "https://localhost:8080/",
          "height": 487
        },
        "id": "dN5eN34hqWnc",
        "outputId": "0ef581ea-ccfe-4bfa-803c-114c82f0aff9"
      },
      "execution_count": 40,
      "outputs": [
        {
          "output_type": "display_data",
          "data": {
            "text/plain": [
              "<Figure size 800x500 with 1 Axes>"
            ],
            "image/png": "[encoded data removed]"
          },
          "metadata": {}
        }
      ]
    },
    {
      "cell_type": "markdown",
      "source": [
        "# **NEXT STEP**"
      ],
      "metadata": {
        "id": "IihVDJckqsfP"
      }
    },
    {
      "cell_type": "code",
      "source": [
        "ratings_movies = pd.merge(ratings, movies[[\"movie_id\", \"title\"]], on=\"movie_id\")\n",
        "\n",
        "user_movie_matrix = ratings_movies.pivot_table(\n",
        "    index=\"user_id\",\n",
        "    columns=\"title\",\n",
        "    values=\"rating\"\n",
        ")\n",
        "\n",
        "print(user_movie_matrix.shape)\n",
        "user_movie_matrix.head()"
      ],
      "metadata": {
        "colab": {
          "base_uri": "https://localhost:8080/",
          "height": 408
        },
        "id": "7aofjV7yqjCy",
        "outputId": "6d73d226-a463-412c-c7bb-1b73699685e9"
      },
      "execution_count": 41,
      "outputs": [
        {
          "output_type": "stream",
          "name": "stdout",
          "text": [
            "(943, 1664)\n"
          ]
        },
        {
          "output_type": "execute_result",
          "data": {
            "text/plain": [
              "title    'Til There Was You (1997)  1-900 (1994)  101 Dalmatians (1996)  \\\n",
              "user_id                                                                   \n",
              "1                              NaN           NaN                    2.0   \n",
              "2                              NaN           NaN                    NaN   \n",
              "3                              NaN           NaN                    NaN   \n",
              "4                              NaN           NaN                    NaN   \n",
              "5                              NaN           NaN                    2.0   \n",
              "\n",
              "title    12 Angry Men (1957)  187 (1997)  2 Days in the Valley (1996)  \\\n",
              "user_id                                                                 \n",
              "1                        5.0         NaN                          NaN   \n",
              "2                        NaN         NaN                          NaN   \n",
              "3                        NaN         2.0                          NaN   \n",
              "4                        NaN         NaN                          NaN   \n",
              "5                        NaN         NaN                          NaN   \n",
              "\n",
              "title    20,000 Leagues Under the Sea (1954)  2001: A Space Odyssey (1968)  \\\n",
              "user_id                                                                      \n",
              "1                                        3.0                           4.0   \n",
              "2                                        NaN                           NaN   \n",
              "3                                        NaN                           NaN   \n",
              "4                                        NaN                           NaN   \n",
              "5                                        NaN                           4.0   \n",
              "\n",
              "title    3 Ninjas: High Noon At Mega Mountain (1998)  39 Steps, The (1935)  \\\n",
              "user_id                                                                      \n",
              "1                                                NaN                   NaN   \n",
              "2                                                1.0                   NaN   \n",
              "3                                                NaN                   NaN   \n",
              "4                                                NaN                   NaN   \n",
              "5                                                NaN                   NaN   \n",
              "\n",
              "title    ...  Yankee Zulu (1994)  Year of the Horse (1997)  \\\n",
              "user_id  ...                                                 \n",
              "1        ...                 NaN                       NaN   \n",
              "2        ...                 NaN                       NaN   \n",
              "3        ...                 NaN                       NaN   \n",
              "4        ...                 NaN                       NaN   \n",
              "5        ...                 NaN                       NaN   \n",
              "\n",
              "title    You So Crazy (1994)  Young Frankenstein (1974)  Young Guns (1988)  \\\n",
              "user_id                                                                      \n",
              "1                        NaN                        5.0                3.0   \n",
              "2                        NaN                        NaN                NaN   \n",
              "3                        NaN                        NaN                NaN   \n",
              "4                        NaN                        NaN                NaN   \n",
              "5                        NaN                        4.0                NaN   \n",
              "\n",
              "title    Young Guns II (1990)  Young Poisoner's Handbook, The (1995)  \\\n",
              "user_id                                                                \n",
              "1                         NaN                                    NaN   \n",
              "2                         NaN                                    NaN   \n",
              "3                         NaN                                    NaN   \n",
              "4                         NaN                                    NaN   \n",
              "5                         NaN                                    NaN   \n",
              "\n",
              "title    Zeus and Roxanne (1997)  unknown  Á köldum klaka (Cold Fever) (1994)  \n",
              "user_id                                                                        \n",
              "1                            NaN      4.0                                 NaN  \n",
              "2                            NaN      NaN                                 NaN  \n",
              "3                            NaN      NaN                                 NaN  \n",
              "4                            NaN      NaN                                 NaN  \n",
              "5                            NaN      4.0                                 NaN  \n",
              "\n",
              "[5 rows x 1664 columns]"
            ],
            "text/html": [
              "\n",
              "  <div id=\"df-e64bd452-00f5-4e7f-9734-1ce8c0d8338f\" class=\"colab-df-container\">\n",
              "    <div>\n",
              "<style scoped>\n",
              "    .dataframe tbody tr th:only-of-type {\n",
              "        vertical-align: middle;\n",
              "    }\n",
              "\n",
              "    .dataframe tbody tr th {\n",
              "        vertical-align: top;\n",
              "    }\n",
              "\n",
              "    .dataframe thead th {\n",
              "        text-align: right;\n",
              "    }\n",
              "</style>\n",
              "<table border=\"1\" class=\"dataframe\">\n",
              "  <thead>\n",
              "    <tr style=\"text-align: right;\">\n",
              "      <th>title</th>\n",
              "      <th>'Til There Was You (1997)</th>\n",
              "      <th>1-900 (1994)</th>\n",
              "      <th>101 Dalmatians (1996)</th>\n",
              "      <th>12 Angry Men (1957)</th>\n",
              "      <th>187 (1997)</th>\n",
              "      <th>2 Days in the Valley (1996)</th>\n",
              "      <th>20,000 Leagues Under the Sea (1954)</th>\n",
              "      <th>2001: A Space Odyssey (1968)</th>\n",
              "      <th>3 Ninjas: High Noon At Mega Mountain (1998)</th>\n",
              "      <th>39 Steps, The (1935)</th>\n",
              "      <th>...</th>\n",
              "      <th>Yankee Zulu (1994)</th>\n",
              "      <th>Year of the Horse (1997)</th>\n",
              "      <th>You So Crazy (1994)</th>\n",
              "      <th>Young Frankenstein (1974)</th>\n",
              "      <th>Young Guns (1988)</th>\n",
              "      <th>Young Guns II (1990)</th>\n",
              "      <th>Young Poisoner's Handbook, The (1995)</th>\n",
              "      <th>Zeus and Roxanne (1997)</th>\n",
              "      <th>unknown</th>\n",
              "      <th>Á köldum klaka (Cold Fever) (1994)</th>\n",
              "    </tr>\n",
              "    <tr>\n",
              "      <th>user_id</th>\n",
              "      <th></th>\n",
              "      <th></th>\n",
              "      <th></th>\n",
              "      <th></th>\n",
              "      <th></th>\n",
              "      <th></th>\n",
              "      <th></th>\n",
              "      <th></th>\n",
              "      <th></th>\n",
              "      <th></th>\n",
              "      <th></th>\n",
              "      <th></th>\n",
              "      <th></th>\n",
              "      <th></th>\n",
              "      <th></th>\n",
              "      <th></th>\n",
              "      <th></th>\n",
              "      <th></th>\n",
              "      <th></th>\n",
              "      <th></th>\n",
              "      <th></th>\n",
              "    </tr>\n",
              "  </thead>\n",
              "  <tbody>\n",
              "    <tr>\n",
              "      <th>1</th>\n",
              "      <td>NaN</td>\n",
              "      <td>NaN</td>\n",
              "      <td>2.0</td>\n",
              "      <td>5.0</td>\n",
              "      <td>NaN</td>\n",
              "      <td>NaN</td>\n",
              "      <td>3.0</td>\n",
              "      <td>4.0</td>\n",
              "      <td>NaN</td>\n",
              "      <td>NaN</td>\n",
              "      <td>...</td>\n",
              "      <td>NaN</td>\n",
              "      <td>NaN</td>\n",
              "      <td>NaN</td>\n",
              "      <td>5.0</td>\n",
              "      <td>3.0</td>\n",
              "      <td>NaN</td>\n",
              "      <td>NaN</td>\n",
              "      <td>NaN</td>\n",
              "      <td>4.0</td>\n",
              "      <td>NaN</td>\n",
              "    </tr>\n",
              "    <tr>\n",
              "      <th>2</th>\n",
              "      <td>NaN</td>\n",
              "      <td>NaN</td>\n",
              "      <td>NaN</td>\n",
              "      <td>NaN</td>\n",
              "      <td>NaN</td>\n",
              "      <td>NaN</td>\n",
              "      <td>NaN</td>\n",
              "      <td>NaN</td>\n",
              "      <td>1.0</td>\n",
              "      <td>NaN</td>\n",
              "      <td>...</td>\n",
              "      <td>NaN</td>\n",
              "      <td>NaN</td>\n",
              "      <td>NaN</td>\n",
              "      <td>NaN</td>\n",
              "      <td>NaN</td>\n",
              "      <td>NaN</td>\n",
              "      <td>NaN</td>\n",
              "      <td>NaN</td>\n",
              "      <td>NaN</td>\n",
              "      <td>NaN</td>\n",
              "    </tr>\n",
              "    <tr>\n",
              "      <th>3</th>\n",
              "      <td>NaN</td>\n",
              "      <td>NaN</td>\n",
              "      <td>NaN</td>\n",
              "      <td>NaN</td>\n",
              "      <td>2.0</td>\n",
              "      <td>NaN</td>\n",
              "      <td>NaN</td>\n",
              "      <td>NaN</td>\n",
              "      <td>NaN</td>\n",
              "      <td>NaN</td>\n",
              "      <td>...</td>\n",
              "      <td>NaN</td>\n",
              "      <td>NaN</td>\n",
              "      <td>NaN</td>\n",
              "      <td>NaN</td>\n",
              "      <td>NaN</td>\n",
              "      <td>NaN</td>\n",
              "      <td>NaN</td>\n",
              "      <td>NaN</td>\n",
              "      <td>NaN</td>\n",
              "      <td>NaN</td>\n",
              "    </tr>\n",
              "    <tr>\n",
              "      <th>4</th>\n",
              "      <td>NaN</td>\n",
              "      <td>NaN</td>\n",
              "      <td>NaN</td>\n",
              "      <td>NaN</td>\n",
              "      <td>NaN</td>\n",
              "      <td>NaN</td>\n",
              "      <td>NaN</td>\n",
              "      <td>NaN</td>\n",
              "      <td>NaN</td>\n",
              "      <td>NaN</td>\n",
              "      <td>...</td>\n",
              "      <td>NaN</td>\n",
              "      <td>NaN</td>\n",
              "      <td>NaN</td>\n",
              "      <td>NaN</td>\n",
              "      <td>NaN</td>\n",
              "      <td>NaN</td>\n",
              "      <td>NaN</td>\n",
              "      <td>NaN</td>\n",
              "      <td>NaN</td>\n",
              "      <td>NaN</td>\n",
              "    </tr>\n",
              "    <tr>\n",
              "      <th>5</th>\n",
              "      <td>NaN</td>\n",
              "      <td>NaN</td>\n",
              "      <td>2.0</td>\n",
              "      <td>NaN</td>\n",
              "      <td>NaN</td>\n",
              "      <td>NaN</td>\n",
              "      <td>NaN</td>\n",
              "      <td>4.0</td>\n",
              "      <td>NaN</td>\n",
              "      <td>NaN</td>\n",
              "      <td>...</td>\n",
              "      <td>NaN</td>\n",
              "      <td>NaN</td>\n",
              "      <td>NaN</td>\n",
              "      <td>4.0</td>\n",
              "      <td>NaN</td>\n",
              "      <td>NaN</td>\n",
              "      <td>NaN</td>\n",
              "      <td>NaN</td>\n",
              "      <td>4.0</td>\n",
              "      <td>NaN</td>\n",
              "    </tr>\n",
              "  </tbody>\n",
              "</table>\n",
              "<p>5 rows × 1664 columns</p>\n",
              "</div>\n",
              "    <div class=\"colab-df-buttons\">\n",
              "\n",
              "  <div class=\"colab-df-container\">\n",
              "    <button class=\"colab-df-convert\" onclick=\"convertToInteractive('df-e64bd452-00f5-4e7f-9734-1ce8c0d8338f')\"\n",
              "            title=\"Convert this dataframe to an interactive table.\"\n",
              "            style=\"display:none;\">\n",
              "\n",
              "  <svg xmlns=\"http://www.w3.org/2000/svg\" height=\"24px\" viewBox=\"0 -960 960 960\">\n",
              "    <path d=\"M120-120v-720h720v720H120Zm60-500h600v-160H180v160Zm220 220h160v-160H400v160Zm0 220h160v-160H400v160ZM180-400h160v-160H180v160Zm440 0h160v-160H620v160ZM180-180h160v-160H180v160Zm440 0h160v-160H620v160Z\"/>\n",
              "  </svg>\n",
              "    </button>\n",
              "\n",
              "  <style>\n",
              "    .colab-df-container {\n",
              "      display:flex;\n",
              "      gap: 12px;\n",
              "    }\n",
              "\n",
              "    .colab-df-convert {\n",
              "      background-color: #E8F0FE;\n",
              "      border: none;\n",
              "      border-radius: 50%;\n",
              "      cursor: pointer;\n",
              "      display: none;\n",
              "      fill: #1967D2;\n",
              "      height: 32px;\n",
              "      padding: 0 0 0 0;\n",
              "      width: 32px;\n",
              "    }\n",
              "\n",
              "    .colab-df-convert:hover {\n",
              "      background-color: #E2EBFA;\n",
              "      box-shadow: 0px 1px 2px rgba(60, 64, 67, 0.3), 0px 1px 3px 1px rgba(60, 64, 67, 0.15);\n",
              "      fill: #174EA6;\n",
              "    }\n",
              "\n",
              "    .colab-df-buttons div {\n",
              "      margin-bottom: 4px;\n",
              "    }\n",
              "\n",
              "    [theme=dark] .colab-df-convert {\n",
              "      background-color: #3B4455;\n",
              "      fill: #D2E3FC;\n",
              "    }\n",
              "\n",
              "    [theme=dark] .colab-df-convert:hover {\n",
              "      background-color: #434B5C;\n",
              "      box-shadow: 0px 1px 3px 1px rgba(0, 0, 0, 0.15);\n",
              "      filter: drop-shadow(0px 1px 2px rgba(0, 0, 0, 0.3));\n",
              "      fill: #FFFFFF;\n",
              "    }\n",
              "  </style>\n",
              "\n",
              "    <script>\n",
              "      const buttonEl =\n",
              "        document.querySelector('#df-e64bd452-00f5-4e7f-9734-1ce8c0d8338f button.colab-df-convert');\n",
              "      buttonEl.style.display =\n",
              "        google.colab.kernel.accessAllowed ? 'block' : 'none';\n",
              "\n",
              "      async function convertToInteractive(key) {\n",
              "        const element = document.querySelector('#df-e64bd452-00f5-4e7f-9734-1ce8c0d8338f');\n",
              "        const dataTable =\n",
              "          await google.colab.kernel.invokeFunction('convertToInteractive',\n",
              "                                                    [key], {});\n",
              "        if (!dataTable) return;\n",
              "\n",
              "        const docLinkHtml = 'Like what you see? Visit the ' +\n",
              "          '<a target=\"_blank\" href=https://colab.research.google.com/notebooks/data_table.ipynb>data table notebook</a>'\n",
              "          + ' to learn more about interactive tables.';\n",
              "        element.innerHTML = '';\n",
              "        dataTable['output_type'] = 'display_data';\n",
              "        await google.colab.output.renderOutput(dataTable, element);\n",
              "        const docLink = document.createElement('div');\n",
              "        docLink.innerHTML = docLinkHtml;\n",
              "        element.appendChild(docLink);\n",
              "      }\n",
              "    </script>\n",
              "  </div>\n",
              "\n",
              "\n",
              "    <div id=\"df-5354b9fe-0ee1-4e71-9798-d311bd60fc63\">\n",
              "      <button class=\"colab-df-quickchart\" onclick=\"quickchart('df-5354b9fe-0ee1-4e71-9798-d311bd60fc63')\"\n",
              "                title=\"Suggest charts\"\n",
              "                style=\"display:none;\">\n",
              "\n",
              "<svg xmlns=\"http://www.w3.org/2000/svg\" height=\"24px\"viewBox=\"0 0 24 24\"\n",
              "     width=\"24px\">\n",
              "    <g>\n",
              "        <path d=\"M19 3H5c-1.1 0-2 .9-2 2v14c0 1.1.9 2 2 2h14c1.1 0 2-.9 2-2V5c0-1.1-.9-2-2-2zM9 17H7v-7h2v7zm4 0h-2V7h2v10zm4 0h-2v-4h2v4z\"/>\n",
              "    </g>\n",
              "</svg>\n",
              "      </button>\n",
              "\n",
              "<style>\n",
              "  .colab-df-quickchart {\n",
              "      --bg-color: #E8F0FE;\n",
              "      --fill-color: #1967D2;\n",
              "      --hover-bg-color: #E2EBFA;\n",
              "      --hover-fill-color: #174EA6;\n",
              "      --disabled-fill-color: #AAA;\n",
              "      --disabled-bg-color: #DDD;\n",
              "  }\n",
              "\n",
              "  [theme=dark] .colab-df-quickchart {\n",
              "      --bg-color: #3B4455;\n",
              "      --fill-color: #D2E3FC;\n",
              "      --hover-bg-color: #434B5C;\n",
              "      --hover-fill-color: #FFFFFF;\n",
              "      --disabled-bg-color: #3B4455;\n",
              "      --disabled-fill-color: #666;\n",
              "  }\n",
              "\n",
              "  .colab-df-quickchart {\n",
              "    background-color: var(--bg-color);\n",
              "    border: none;\n",
              "    border-radius: 50%;\n",
              "    cursor: pointer;\n",
              "    display: none;\n",
              "    fill: var(--fill-color);\n",
              "    height: 32px;\n",
              "    padding: 0;\n",
              "    width: 32px;\n",
              "  }\n",
              "\n",
              "  .colab-df-quickchart:hover {\n",
              "    background-color: var(--hover-bg-color);\n",
              "    box-shadow: 0 1px 2px rgba(60, 64, 67, 0.3), 0 1px 3px 1px rgba(60, 64, 67, 0.15);\n",
              "    fill: var(--button-hover-fill-color);\n",
              "  }\n",
              "\n",
              "  .colab-df-quickchart-complete:disabled,\n",
              "  .colab-df-quickchart-complete:disabled:hover {\n",
              "    background-color: var(--disabled-bg-color);\n",
              "    fill: var(--disabled-fill-color);\n",
              "    box-shadow: none;\n",
              "  }\n",
              "\n",
              "  .colab-df-spinner {\n",
              "    border: 2px solid var(--fill-color);\n",
              "    border-color: transparent;\n",
              "    border-bottom-color: var(--fill-color);\n",
              "    animation:\n",
              "      spin 1s steps(1) infinite;\n",
              "  }\n",
              "\n",
              "  @keyframes spin {\n",
              "    0% {\n",
              "      border-color: transparent;\n",
              "      border-bottom-color: var(--fill-color);\n",
              "      border-left-color: var(--fill-color);\n",
              "    }\n",
              "    20% {\n",
              "      border-color: transparent;\n",
              "      border-left-color: var(--fill-color);\n",
              "      border-top-color: var(--fill-color);\n",
              "    }\n",
              "    30% {\n",
              "      border-color: transparent;\n",
              "      border-left-color: var(--fill-color);\n",
              "      border-top-color: var(--fill-color);\n",
              "      border-right-color: var(--fill-color);\n",
              "    }\n",
              "    40% {\n",
              "      border-color: transparent;\n",
              "      border-right-color: var(--fill-color);\n",
              "      border-top-color: var(--fill-color);\n",
              "    }\n",
              "    60% {\n",
              "      border-color: transparent;\n",
              "      border-right-color: var(--fill-color);\n",
              "    }\n",
              "    80% {\n",
              "      border-color: transparent;\n",
              "      border-right-color: var(--fill-color);\n",
              "      border-bottom-color: var(--fill-color);\n",
              "    }\n",
              "    90% {\n",
              "      border-color: transparent;\n",
              "      border-bottom-color: var(--fill-color);\n",
              "    }\n",
              "  }\n",
              "</style>\n",
              "\n",
              "      <script>\n",
              "        async function quickchart(key) {\n",
              "          const quickchartButtonEl =\n",
              "            document.querySelector('#' + key + ' button');\n",
              "          quickchartButtonEl.disabled = true;  // To prevent multiple clicks.\n",
              "          quickchartButtonEl.classList.add('colab-df-spinner');\n",
              "          try {\n",
              "            const charts = await google.colab.kernel.invokeFunction(\n",
              "                'suggestCharts', [key], {});\n",
              "          } catch (error) {\n",
              "            console.error('Error during call to suggestCharts:', error);\n",
              "          }\n",
              "          quickchartButtonEl.classList.remove('colab-df-spinner');\n",
              "          quickchartButtonEl.classList.add('colab-df-quickchart-complete');\n",
              "        }\n",
              "        (() => {\n",
              "          let quickchartButtonEl =\n",
              "            document.querySelector('#df-5354b9fe-0ee1-4e71-9798-d311bd60fc63 button');\n",
              "          quickchartButtonEl.style.display =\n",
              "            google.colab.kernel.accessAllowed ? 'block' : 'none';\n",
              "        })();\n",
              "      </script>\n",
              "    </div>\n",
              "\n",
              "    </div>\n",
              "  </div>\n"
            ],
            "application/vnd.google.colaboratory.intrinsic+json": {
              "type": "dataframe",
              "variable_name": "user_movie_matrix"
            }
          },
          "metadata": {},
          "execution_count": 41
        }
      ]
    },
    {
      "cell_type": "code",
      "source": [
        "# Choose a movie (example: \"Star Wars (1977)\")\n",
        "movie_ratings = user_movie_matrix[\"Star Wars (1977)\"]\n",
        "# Compute correlation with other movies\n",
        "similar_movies = user_movie_matrix.corrwith(movie_ratings)\n",
        "# Drop NaNs and build DataFrame\n",
        "corr_starwars = pd.DataFrame(similar_movies, columns=[\"Correlation\"])\n",
        "corr_starwars.dropna(inplace=True)\n",
        "# Add number of ratings\n",
        "movie_stats = ratings_movies.groupby(\"title\")[\"rating\"].count()\n",
        "corr_starwars = corr_starwars.join(movie_stats)\n",
        "# Filter only movies with >= 100 ratings\n",
        "recommendations = corr_starwars[corr_starwars[\"rating\"] >= 100].sort_values(\"Correlation\", ascending=False).head(10)\n",
        "print(recommendations)"
      ],
      "metadata": {
        "colab": {
          "base_uri": "https://localhost:8080/"
        },
        "id": "PDV1Cs0tq5Xu",
        "outputId": "a74de054-a1ca-4601-d12b-608ef8dce52b"
      },
      "execution_count": 42,
      "outputs": [
        {
          "output_type": "stream",
          "name": "stderr",
          "text": [
            "/usr/local/lib/python3.12/dist-packages/numpy/lib/_function_base_impl.py:2922: RuntimeWarning: invalid value encountered in divide\n",
            "  c /= stddev[:, None]\n",
            "/usr/local/lib/python3.12/dist-packages/numpy/lib/_function_base_impl.py:2923: RuntimeWarning: invalid value encountered in divide\n",
            "  c /= stddev[None, :]\n",
            "/usr/local/lib/python3.12/dist-packages/numpy/lib/_function_base_impl.py:2914: RuntimeWarning: Degrees of freedom <= 0 for slice\n",
            "  c = cov(x, y, rowvar, dtype=dtype)\n",
            "/usr/local/lib/python3.12/dist-packages/numpy/lib/_function_base_impl.py:2773: RuntimeWarning: divide by zero encountered in divide\n",
            "  c *= np.true_divide(1, fact)\n",
            "/usr/local/lib/python3.12/dist-packages/numpy/lib/_function_base_impl.py:2773: RuntimeWarning: invalid value encountered in multiply\n",
            "  c *= np.true_divide(1, fact)\n"
          ]
        },
        {
          "output_type": "stream",
          "name": "stdout",
          "text": [
            "                                                    Correlation  rating\n",
            "title                                                                  \n",
            "Star Wars (1977)                                       1.000000     583\n",
            "Empire Strikes Back, The (1980)                        0.747981     367\n",
            "Return of the Jedi (1983)                              0.672556     507\n",
            "Raiders of the Lost Ark (1981)                         0.536117     420\n",
            "Austin Powers: International Man of Mystery (1997)     0.377433     130\n",
            "Sting, The (1973)                                      0.367538     241\n",
            "Indiana Jones and the Last Crusade (1989)              0.350107     331\n",
            "Pinocchio (1940)                                       0.347868     101\n",
            "Frighteners, The (1996)                                0.332729     115\n",
            "L.A. Confidential (1997)                               0.319065     297\n"
          ]
        }
      ]
    },
    {
      "cell_type": "code",
      "source": [
        "def recommend_movies(movie_name, min_ratings=100):\n",
        "    movie_ratings = user_movie_matrix[movie_name]\n",
        "    similar = user_movie_matrix.corrwith(movie_ratings)\n",
        "    corr_df = pd.DataFrame(similar, columns=[\"Correlation\"])\n",
        "    corr_df.dropna(inplace=True)\n",
        "    movie_stats = ratings_movies.groupby(\"title\")[\"rating\"].count()\n",
        "    corr_df = corr_df.join(movie_stats)\n",
        "    return corr_df[corr_df[\"rating\"] >= min_ratings].sort_values(\"Correlation\", ascending=False).head(10)\n",
        "# Example\n",
        "print(recommend_movies(\"Toy Story (1995)\"))"
      ],
      "metadata": {
        "colab": {
          "base_uri": "https://localhost:8080/"
        },
        "id": "4Wb_WydYrE0N",
        "outputId": "cfdc6429-c252-4f81-be1b-7aa21477d1bd"
      },
      "execution_count": 43,
      "outputs": [
        {
          "output_type": "stream",
          "name": "stderr",
          "text": [
            "/usr/local/lib/python3.12/dist-packages/numpy/lib/_function_base_impl.py:2914: RuntimeWarning: Degrees of freedom <= 0 for slice\n",
            "  c = cov(x, y, rowvar, dtype=dtype)\n",
            "/usr/local/lib/python3.12/dist-packages/numpy/lib/_function_base_impl.py:2773: RuntimeWarning: divide by zero encountered in divide\n",
            "  c *= np.true_divide(1, fact)\n",
            "/usr/local/lib/python3.12/dist-packages/numpy/lib/_function_base_impl.py:2773: RuntimeWarning: invalid value encountered in multiply\n",
            "  c *= np.true_divide(1, fact)\n",
            "/usr/local/lib/python3.12/dist-packages/numpy/lib/_function_base_impl.py:2922: RuntimeWarning: invalid value encountered in divide\n",
            "  c /= stddev[:, None]\n",
            "/usr/local/lib/python3.12/dist-packages/numpy/lib/_function_base_impl.py:2923: RuntimeWarning: invalid value encountered in divide\n",
            "  c /= stddev[None, :]\n"
          ]
        },
        {
          "output_type": "stream",
          "name": "stdout",
          "text": [
            "                               Correlation  rating\n",
            "title                                             \n",
            "Toy Story (1995)                  1.000000     452\n",
            "Craft, The (1996)                 0.549100     104\n",
            "Down Periscope (1996)             0.457995     101\n",
            "Miracle on 34th Street (1994)     0.456291     101\n",
            "G.I. Jane (1997)                  0.454756     175\n",
            "Amistad (1997)                    0.449915     124\n",
            "Beauty and the Beast (1991)       0.442960     202\n",
            "Mask, The (1994)                  0.432855     129\n",
            "Cinderella (1950)                 0.428372     129\n",
            "That Thing You Do! (1996)         0.427936     176\n"
          ]
        }
      ]
    },
    {
      "cell_type": "markdown",
      "source": [
        "TTTT"
      ],
      "metadata": {
        "id": "3YxK92I-rs2A"
      }
    },
    {
      "cell_type": "code",
      "source": [
        "from sklearn.metrics.pairwise import cosine_similarity\n",
        "# Fill NaNs with 0 (unrated = 0 for similarity computation)\n",
        "user_matrix_filled = user_movie_matrix.fillna(0)\n",
        "# Compute cosine similarity between users\n",
        "user_similarity = cosine_similarity(user_matrix_filled)\n",
        "# Convert to DataFrame\n",
        "user_similarity_df = pd.DataFrame(\n",
        "    user_similarity,\n",
        "    index=user_movie_matrix.index,\n",
        "    columns=user_movie_matrix.index\n",
        ")\n",
        "print(user_similarity_df.head())"
      ],
      "metadata": {
        "colab": {
          "base_uri": "https://localhost:8080/"
        },
        "id": "6zTkuoO7rtwL",
        "outputId": "bba50fd0-fc11-46dd-d9f8-0660813c6003"
      },
      "execution_count": 45,
      "outputs": [
        {
          "output_type": "stream",
          "name": "stdout",
          "text": [
            "user_id       1         2         3         4         5         6         7    \\\n",
            "user_id                                                                         \n",
            "1        1.000000  0.168937  0.048388  0.064561  0.379670  0.429682  0.443097   \n",
            "2        0.168937  1.000000  0.113393  0.179694  0.073623  0.242106  0.108604   \n",
            "3        0.048388  0.113393  1.000000  0.349781  0.021592  0.074018  0.067423   \n",
            "4        0.064561  0.179694  0.349781  1.000000  0.031804  0.068431  0.091507   \n",
            "5        0.379670  0.073623  0.021592  0.031804  1.000000  0.238636  0.374733   \n",
            "\n",
            "user_id       8         9         10   ...       934       935       936  \\\n",
            "user_id                                ...                                 \n",
            "1        0.320079  0.078385  0.377733  ...  0.372213  0.119860  0.269860   \n",
            "2        0.104257  0.162470  0.161273  ...  0.147095  0.310661  0.363328   \n",
            "3        0.084419  0.062039  0.066217  ...  0.033885  0.043453  0.167140   \n",
            "4        0.188060  0.101284  0.060859  ...  0.054615  0.036784  0.133619   \n",
            "5        0.248930  0.056847  0.201427  ...  0.340183  0.080580  0.095284   \n",
            "\n",
            "user_id       937       938       939       940       941       942       943  \n",
            "user_id                                                                        \n",
            "1        0.193343  0.197949  0.118722  0.315064  0.149086  0.181612  0.399432  \n",
            "2        0.410725  0.322713  0.231096  0.228793  0.162911  0.175273  0.106732  \n",
            "3        0.071288  0.126278  0.026758  0.164539  0.102899  0.136757  0.026990  \n",
            "4        0.196561  0.146058  0.030202  0.196858  0.152041  0.171538  0.058752  \n",
            "5        0.081053  0.148607  0.071612  0.239955  0.139595  0.153799  0.313941  \n",
            "\n",
            "[5 rows x 943 columns]\n"
          ]
        }
      ]
    },
    {
      "cell_type": "code",
      "source": [
        "def get_similar_users(user_id, n=5):\n",
        "    # Sort similarity scores for the user\n",
        "    sim_users = user_similarity_df[user_id].sort_values(ascending=False)\n",
        "    # Drop self (similarity = 1.0 with themselves)\n",
        "    sim_users = sim_users.drop(user_id)\n",
        "    return sim_users.head(n)\n",
        "print(get_similar_users(1))"
      ],
      "metadata": {
        "colab": {
          "base_uri": "https://localhost:8080/"
        },
        "id": "KYglo0W-ry21",
        "outputId": "68e8cfed-9da8-4d39-995d-ba92c5f2ecd0"
      },
      "execution_count": 46,
      "outputs": [
        {
          "output_type": "stream",
          "name": "stdout",
          "text": [
            "user_id\n",
            "916    0.566293\n",
            "864    0.549277\n",
            "457    0.541364\n",
            "92     0.539415\n",
            "268    0.538883\n",
            "Name: 1, dtype: float64\n"
          ]
        }
      ]
    },
    {
      "cell_type": "code",
      "source": [
        "def recommend_for_user(user_id, n_similar=5, n_recommend=5):\n",
        "    # Find similar users\n",
        "    similar_users = get_similar_users(user_id, n=n_similar).index\n",
        "    # Movies rated by similar users\n",
        "    similar_users_ratings = user_movie_matrix.loc[similar_users].mean().sort_values(ascending=False)\n",
        "    # Movies the target user has already rated\n",
        "    target_user_movies = user_movie_matrix.loc[user_id].dropna().index\n",
        "    # Exclude already watched movies\n",
        "    recommendations = similar_users_ratings.drop(target_user_movies, errors=\"ignore\")\n",
        "    return recommendations.head(n_recommend)\n",
        "# Example: recommend for user 1\n",
        "print(recommend_for_user(1))"
      ],
      "metadata": {
        "colab": {
          "base_uri": "https://localhost:8080/"
        },
        "id": "I5196vorr23_",
        "outputId": "7f5382c7-4885-4552-953b-7d47cdd185b4"
      },
      "execution_count": 47,
      "outputs": [
        {
          "output_type": "stream",
          "name": "stdout",
          "text": [
            "title\n",
            "Wings of Desire (1987)                5.0\n",
            "People vs. Larry Flynt, The (1996)    5.0\n",
            "Shadowlands (1993)                    5.0\n",
            "Casablanca (1942)                     5.0\n",
            "Chinatown (1974)                      5.0\n",
            "dtype: float64\n"
          ]
        }
      ]
    },
    {
      "cell_type": "code",
      "source": [
        "from sklearn.decomposition import TruncatedSVD"
      ],
      "metadata": {
        "id": "DMLpWdjGGClP"
      },
      "execution_count": 53,
      "outputs": []
    },
    {
      "cell_type": "code",
      "source": [
        "user_item_matrix = ratings.pivot_table(\n",
        "    index=\"user_id\",\n",
        "    columns=\"movie_id\",\n",
        "    values=\"rating\"\n",
        ").fillna(0)"
      ],
      "metadata": {
        "id": "FrV-jHNEGHMa"
      },
      "execution_count": 54,
      "outputs": []
    },
    {
      "cell_type": "code",
      "source": [
        "svd = TruncatedSVD(n_components=20, random_state=42)\n",
        "matrix_reduced = svd.fit_transform(user_item_matrix)"
      ],
      "metadata": {
        "id": "nnDv74fMGJyb"
      },
      "execution_count": 55,
      "outputs": []
    },
    {
      "cell_type": "code",
      "source": [
        "approx_ratings = np.dot(matrix_reduced, svd.components_)\n",
        "pred_df = pd.DataFrame(\n",
        "    approx_ratings,\n",
        "    index=user_item_matrix.index,\n",
        "    columns=user_item_matrix.columns\n",
        ")"
      ],
      "metadata": {
        "id": "FDezskhGGMiM"
      },
      "execution_count": 56,
      "outputs": []
    },
    {
      "cell_type": "code",
      "source": [
        "def recommend_movies(user_id, preds, ratings, movies, top_n=5):\n",
        "    # Movies already rated\n",
        "    rated = ratings[ratings[\"user_id\"] == user_id][\"movie_id\"].tolist()\n",
        "    # Predicted ratings for all movies\n",
        "    user_preds = preds.loc[user_id].drop(rated).sort_values(ascending=False).head(top_n)\n",
        "    return movies[movies[\"movie_id\"].isin(user_preds.index)][[\"movie_id\", \"title\"]].assign(\n",
        "        predicted_rating=user_preds.values\n",
        "    )"
      ],
      "metadata": {
        "id": "xghCoAW6GPPu"
      },
      "execution_count": 57,
      "outputs": []
    },
    {
      "cell_type": "code",
      "source": [
        "recommend_movies(1, pred_df, ratings, movies, top_n=5)"
      ],
      "metadata": {
        "colab": {
          "base_uri": "https://localhost:8080/",
          "height": 206
        },
        "id": "f_8SLh4nGRcP",
        "outputId": "83f66465-cdaa-4ded-83d1-b0ca5011daa1"
      },
      "execution_count": 58,
      "outputs": [
        {
          "output_type": "execute_result",
          "data": {
            "text/plain": [
              "     movie_id                              title  predicted_rating\n",
              "274       275       Sense and Sensibility (1995)          3.958260\n",
              "422       423  E.T. the Extra-Terrestrial (1982)          3.361876\n",
              "432       433                    Heathers (1989)          3.263087\n",
              "474       475               Trainspotting (1996)          3.241236\n",
              "482       483                  Casablanca (1942)          3.226547"
            ],
            "text/html": [
              "\n",
              "  <div id=\"df-a372e33c-9dfa-4b93-9be2-80103fa8fc4a\" class=\"colab-df-container\">\n",
              "    <div>\n",
              "<style scoped>\n",
              "    .dataframe tbody tr th:only-of-type {\n",
              "        vertical-align: middle;\n",
              "    }\n",
              "\n",
              "    .dataframe tbody tr th {\n",
              "        vertical-align: top;\n",
              "    }\n",
              "\n",
              "    .dataframe thead th {\n",
              "        text-align: right;\n",
              "    }\n",
              "</style>\n",
              "<table border=\"1\" class=\"dataframe\">\n",
              "  <thead>\n",
              "    <tr style=\"text-align: right;\">\n",
              "      <th></th>\n",
              "      <th>movie_id</th>\n",
              "      <th>title</th>\n",
              "      <th>predicted_rating</th>\n",
              "    </tr>\n",
              "  </thead>\n",
              "  <tbody>\n",
              "    <tr>\n",
              "      <th>274</th>\n",
              "      <td>275</td>\n",
              "      <td>Sense and Sensibility (1995)</td>\n",
              "      <td>3.958260</td>\n",
              "    </tr>\n",
              "    <tr>\n",
              "      <th>422</th>\n",
              "      <td>423</td>\n",
              "      <td>E.T. the Extra-Terrestrial (1982)</td>\n",
              "      <td>3.361876</td>\n",
              "    </tr>\n",
              "    <tr>\n",
              "      <th>432</th>\n",
              "      <td>433</td>\n",
              "      <td>Heathers (1989)</td>\n",
              "      <td>3.263087</td>\n",
              "    </tr>\n",
              "    <tr>\n",
              "      <th>474</th>\n",
              "      <td>475</td>\n",
              "      <td>Trainspotting (1996)</td>\n",
              "      <td>3.241236</td>\n",
              "    </tr>\n",
              "    <tr>\n",
              "      <th>482</th>\n",
              "      <td>483</td>\n",
              "      <td>Casablanca (1942)</td>\n",
              "      <td>3.226547</td>\n",
              "    </tr>\n",
              "  </tbody>\n",
              "</table>\n",
              "</div>\n",
              "    <div class=\"colab-df-buttons\">\n",
              "\n",
              "  <div class=\"colab-df-container\">\n",
              "    <button class=\"colab-df-convert\" onclick=\"convertToInteractive('df-a372e33c-9dfa-4b93-9be2-80103fa8fc4a')\"\n",
              "            title=\"Convert this dataframe to an interactive table.\"\n",
              "            style=\"display:none;\">\n",
              "\n",
              "  <svg xmlns=\"http://www.w3.org/2000/svg\" height=\"24px\" viewBox=\"0 -960 960 960\">\n",
              "    <path d=\"M120-120v-720h720v720H120Zm60-500h600v-160H180v160Zm220 220h160v-160H400v160Zm0 220h160v-160H400v160ZM180-400h160v-160H180v160Zm440 0h160v-160H620v160ZM180-180h160v-160H180v160Zm440 0h160v-160H620v160Z\"/>\n",
              "  </svg>\n",
              "    </button>\n",
              "\n",
              "  <style>\n",
              "    .colab-df-container {\n",
              "      display:flex;\n",
              "      gap: 12px;\n",
              "    }\n",
              "\n",
              "    .colab-df-convert {\n",
              "      background-color: #E8F0FE;\n",
              "      border: none;\n",
              "      border-radius: 50%;\n",
              "      cursor: pointer;\n",
              "      display: none;\n",
              "      fill: #1967D2;\n",
              "      height: 32px;\n",
              "      padding: 0 0 0 0;\n",
              "      width: 32px;\n",
              "    }\n",
              "\n",
              "    .colab-df-convert:hover {\n",
              "      background-color: #E2EBFA;\n",
              "      box-shadow: 0px 1px 2px rgba(60, 64, 67, 0.3), 0px 1px 3px 1px rgba(60, 64, 67, 0.15);\n",
              "      fill: #174EA6;\n",
              "    }\n",
              "\n",
              "    .colab-df-buttons div {\n",
              "      margin-bottom: 4px;\n",
              "    }\n",
              "\n",
              "    [theme=dark] .colab-df-convert {\n",
              "      background-color: #3B4455;\n",
              "      fill: #D2E3FC;\n",
              "    }\n",
              "\n",
              "    [theme=dark] .colab-df-convert:hover {\n",
              "      background-color: #434B5C;\n",
              "      box-shadow: 0px 1px 3px 1px rgba(0, 0, 0, 0.15);\n",
              "      filter: drop-shadow(0px 1px 2px rgba(0, 0, 0, 0.3));\n",
              "      fill: #FFFFFF;\n",
              "    }\n",
              "  </style>\n",
              "\n",
              "    <script>\n",
              "      const buttonEl =\n",
              "        document.querySelector('#df-a372e33c-9dfa-4b93-9be2-80103fa8fc4a button.colab-df-convert');\n",
              "      buttonEl.style.display =\n",
              "        google.colab.kernel.accessAllowed ? 'block' : 'none';\n",
              "\n",
              "      async function convertToInteractive(key) {\n",
              "        const element = document.querySelector('#df-a372e33c-9dfa-4b93-9be2-80103fa8fc4a');\n",
              "        const dataTable =\n",
              "          await google.colab.kernel.invokeFunction('convertToInteractive',\n",
              "                                                    [key], {});\n",
              "        if (!dataTable) return;\n",
              "\n",
              "        const docLinkHtml = 'Like what you see? Visit the ' +\n",
              "          '<a target=\"_blank\" href=https://colab.research.google.com/notebooks/data_table.ipynb>data table notebook</a>'\n",
              "          + ' to learn more about interactive tables.';\n",
              "        element.innerHTML = '';\n",
              "        dataTable['output_type'] = 'display_data';\n",
              "        await google.colab.output.renderOutput(dataTable, element);\n",
              "        const docLink = document.createElement('div');\n",
              "        docLink.innerHTML = docLinkHtml;\n",
              "        element.appendChild(docLink);\n",
              "      }\n",
              "    </script>\n",
              "  </div>\n",
              "\n",
              "\n",
              "    <div id=\"df-7123e11e-9887-41d6-b132-50bac635d8c6\">\n",
              "      <button class=\"colab-df-quickchart\" onclick=\"quickchart('df-7123e11e-9887-41d6-b132-50bac635d8c6')\"\n",
              "                title=\"Suggest charts\"\n",
              "                style=\"display:none;\">\n",
              "\n",
              "<svg xmlns=\"http://www.w3.org/2000/svg\" height=\"24px\"viewBox=\"0 0 24 24\"\n",
              "     width=\"24px\">\n",
              "    <g>\n",
              "        <path d=\"M19 3H5c-1.1 0-2 .9-2 2v14c0 1.1.9 2 2 2h14c1.1 0 2-.9 2-2V5c0-1.1-.9-2-2-2zM9 17H7v-7h2v7zm4 0h-2V7h2v10zm4 0h-2v-4h2v4z\"/>\n",
              "    </g>\n",
              "</svg>\n",
              "      </button>\n",
              "\n",
              "<style>\n",
              "  .colab-df-quickchart {\n",
              "      --bg-color: #E8F0FE;\n",
              "      --fill-color: #1967D2;\n",
              "      --hover-bg-color: #E2EBFA;\n",
              "      --hover-fill-color: #174EA6;\n",
              "      --disabled-fill-color: #AAA;\n",
              "      --disabled-bg-color: #DDD;\n",
              "  }\n",
              "\n",
              "  [theme=dark] .colab-df-quickchart {\n",
              "      --bg-color: #3B4455;\n",
              "      --fill-color: #D2E3FC;\n",
              "      --hover-bg-color: #434B5C;\n",
              "      --hover-fill-color: #FFFFFF;\n",
              "      --disabled-bg-color: #3B4455;\n",
              "      --disabled-fill-color: #666;\n",
              "  }\n",
              "\n",
              "  .colab-df-quickchart {\n",
              "    background-color: var(--bg-color);\n",
              "    border: none;\n",
              "    border-radius: 50%;\n",
              "    cursor: pointer;\n",
              "    display: none;\n",
              "    fill: var(--fill-color);\n",
              "    height: 32px;\n",
              "    padding: 0;\n",
              "    width: 32px;\n",
              "  }\n",
              "\n",
              "  .colab-df-quickchart:hover {\n",
              "    background-color: var(--hover-bg-color);\n",
              "    box-shadow: 0 1px 2px rgba(60, 64, 67, 0.3), 0 1px 3px 1px rgba(60, 64, 67, 0.15);\n",
              "    fill: var(--button-hover-fill-color);\n",
              "  }\n",
              "\n",
              "  .colab-df-quickchart-complete:disabled,\n",
              "  .colab-df-quickchart-complete:disabled:hover {\n",
              "    background-color: var(--disabled-bg-color);\n",
              "    fill: var(--disabled-fill-color);\n",
              "    box-shadow: none;\n",
              "  }\n",
              "\n",
              "  .colab-df-spinner {\n",
              "    border: 2px solid var(--fill-color);\n",
              "    border-color: transparent;\n",
              "    border-bottom-color: var(--fill-color);\n",
              "    animation:\n",
              "      spin 1s steps(1) infinite;\n",
              "  }\n",
              "\n",
              "  @keyframes spin {\n",
              "    0% {\n",
              "      border-color: transparent;\n",
              "      border-bottom-color: var(--fill-color);\n",
              "      border-left-color: var(--fill-color);\n",
              "    }\n",
              "    20% {\n",
              "      border-color: transparent;\n",
              "      border-left-color: var(--fill-color);\n",
              "      border-top-color: var(--fill-color);\n",
              "    }\n",
              "    30% {\n",
              "      border-color: transparent;\n",
              "      border-left-color: var(--fill-color);\n",
              "      border-top-color: var(--fill-color);\n",
              "      border-right-color: var(--fill-color);\n",
              "    }\n",
              "    40% {\n",
              "      border-color: transparent;\n",
              "      border-right-color: var(--fill-color);\n",
              "      border-top-color: var(--fill-color);\n",
              "    }\n",
              "    60% {\n",
              "      border-color: transparent;\n",
              "      border-right-color: var(--fill-color);\n",
              "    }\n",
              "    80% {\n",
              "      border-color: transparent;\n",
              "      border-right-color: var(--fill-color);\n",
              "      border-bottom-color: var(--fill-color);\n",
              "    }\n",
              "    90% {\n",
              "      border-color: transparent;\n",
              "      border-bottom-color: var(--fill-color);\n",
              "    }\n",
              "  }\n",
              "</style>\n",
              "\n",
              "      <script>\n",
              "        async function quickchart(key) {\n",
              "          const quickchartButtonEl =\n",
              "            document.querySelector('#' + key + ' button');\n",
              "          quickchartButtonEl.disabled = true;  // To prevent multiple clicks.\n",
              "          quickchartButtonEl.classList.add('colab-df-spinner');\n",
              "          try {\n",
              "            const charts = await google.colab.kernel.invokeFunction(\n",
              "                'suggestCharts', [key], {});\n",
              "          } catch (error) {\n",
              "            console.error('Error during call to suggestCharts:', error);\n",
              "          }\n",
              "          quickchartButtonEl.classList.remove('colab-df-spinner');\n",
              "          quickchartButtonEl.classList.add('colab-df-quickchart-complete');\n",
              "        }\n",
              "        (() => {\n",
              "          let quickchartButtonEl =\n",
              "            document.querySelector('#df-7123e11e-9887-41d6-b132-50bac635d8c6 button');\n",
              "          quickchartButtonEl.style.display =\n",
              "            google.colab.kernel.accessAllowed ? 'block' : 'none';\n",
              "        })();\n",
              "      </script>\n",
              "    </div>\n",
              "\n",
              "    </div>\n",
              "  </div>\n"
            ],
            "application/vnd.google.colaboratory.intrinsic+json": {
              "type": "dataframe",
              "summary": "{\n  \"name\": \"recommend_movies(1, pred_df, ratings, movies, top_n=5)\",\n  \"rows\": 5,\n  \"fields\": [\n    {\n      \"column\": \"movie_id\",\n      \"properties\": {\n        \"dtype\": \"number\",\n        \"std\": 83,\n        \"min\": 275,\n        \"max\": 483,\n        \"num_unique_values\": 5,\n        \"samples\": [\n          423,\n          483,\n          433\n        ],\n        \"semantic_type\": \"\",\n        \"description\": \"\"\n      }\n    },\n    {\n      \"column\": \"title\",\n      \"properties\": {\n        \"dtype\": \"string\",\n        \"num_unique_values\": 5,\n        \"samples\": [\n          \"E.T. the Extra-Terrestrial (1982)\",\n          \"Casablanca (1942)\",\n          \"Heathers (1989)\"\n        ],\n        \"semantic_type\": \"\",\n        \"description\": \"\"\n      }\n    },\n    {\n      \"column\": \"predicted_rating\",\n      \"properties\": {\n        \"dtype\": \"number\",\n        \"std\": 0.3108958874940422,\n        \"min\": 3.2265470235679814,\n        \"max\": 3.9582604839076634,\n        \"num_unique_values\": 5,\n        \"samples\": [\n          3.361875888882867,\n          3.2265470235679814,\n          3.2630871683048435\n        ],\n        \"semantic_type\": \"\",\n        \"description\": \"\"\n      }\n    }\n  ]\n}"
            }
          },
          "metadata": {},
          "execution_count": 58
        }
      ]
    },
    {
      "cell_type": "code",
      "source": [
        "from sklearn.model_selection import train_test_split\n",
        "train, test = train_test_split(ratings, test_size=0.2, random_state=42)"
      ],
      "metadata": {
        "id": "t2i64f0jGeCO"
      },
      "execution_count": 59,
      "outputs": []
    },
    {
      "cell_type": "code",
      "source": [
        "train_matrix = train.pivot_table(\n",
        "    index=\"user_id\",\n",
        "    columns=\"movie_id\",\n",
        "    values=\"rating\"\n",
        ").fillna(0)"
      ],
      "metadata": {
        "id": "unNK7Si1GkHB"
      },
      "execution_count": 60,
      "outputs": []
    },
    {
      "cell_type": "code",
      "source": [
        "svd = TruncatedSVD(n_components=20, random_state=42)\n",
        "train_reduced = svd.fit_transform(train_matrix)\n",
        "# Reconstruct approximate ratings\n",
        "train_preds = np.dot(train_reduced, svd.components_)\n",
        "pred_df = pd.DataFrame(\n",
        "    train_preds,\n",
        "    index=train_matrix.index,\n",
        "    columns=train_matrix.columns\n",
        ")"
      ],
      "metadata": {
        "id": "x1CL5HsxGmiC"
      },
      "execution_count": 61,
      "outputs": []
    },
    {
      "cell_type": "code",
      "source": [
        "from sklearn.metrics import mean_squared_error, mean_absolute_error\n",
        "import numpy as np\n",
        "# Collect actual and predicted ratings\n",
        "y_true, y_pred = [], []\n",
        "for row in test.itertuples(index=False):\n",
        "    user, movie, rating = row.user_id, row.movie_id, row.rating\n",
        "    if user in pred_df.index and movie in pred_df.columns:\n",
        "        y_true.append(rating)\n",
        "        y_pred.append(pred_df.loc[user, movie])\n",
        "# Compute metrics\n",
        "rmse = np.sqrt(mean_squared_error(y_true, y_pred))\n",
        "mae = mean_absolute_error(y_true, y_pred)\n",
        "print(f\"RMSE: {rmse:.4f}\")\n",
        "print(f\"MAE: {mae:.4f}\")"
      ],
      "metadata": {
        "colab": {
          "base_uri": "https://localhost:8080/"
        },
        "id": "kw135-K7GpV7",
        "outputId": "397ad368-f314-4cb2-ec72-92328c8cc308"
      },
      "execution_count": 67,
      "outputs": [
        {
          "output_type": "stream",
          "name": "stdout",
          "text": [
            "RMSE: 2.6401\n",
            "MAE: 2.3709\n"
          ]
        }
      ]
    }
  ]
}